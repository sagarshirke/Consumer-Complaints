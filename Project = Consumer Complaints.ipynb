{
 "cells": [
  {
   "cell_type": "markdown",
   "metadata": {},
   "source": [
    "# DATASET IN CONSUMER FINANCIAL PROTECTION BUREAU"
   ]
  },
  {
   "cell_type": "markdown",
   "metadata": {},
   "source": [
    "This dataset contains information about Consumer Complaints on https://data.world/cfpb/consumer-complaints\n",
    "This data is about Date received, Product, Sub-product, Issue, Company, State. "
   ]
  },
  {
   "cell_type": "markdown",
   "metadata": {},
   "source": [
    "## Loading the dataset: Load the data and import the libraries."
   ]
  },
  {
   "cell_type": "code",
   "execution_count": 1,
   "metadata": {},
   "outputs": [],
   "source": [
    "#importing Required library \n",
    "\n",
    "import pandas as pd\n",
    "import numpy as np\n",
    "import seaborn as sns\n",
    "import matplotlib.pyplot as plt\n",
    "import seaborn as sns\n",
    "%matplotlib inline"
   ]
  },
  {
   "cell_type": "code",
   "execution_count": 2,
   "metadata": {},
   "outputs": [
    {
     "data": {
      "text/html": [
       "        <script type=\"text/javascript\">\n",
       "        window.PlotlyConfig = {MathJaxConfig: 'local'};\n",
       "        if (window.MathJax) {MathJax.Hub.Config({SVG: {font: \"STIX-Web\"}});}\n",
       "        if (typeof require !== 'undefined') {\n",
       "        require.undef(\"plotly\");\n",
       "        requirejs.config({\n",
       "            paths: {\n",
       "                'plotly': ['https://cdn.plot.ly/plotly-latest.min']\n",
       "            }\n",
       "        });\n",
       "        require(['plotly'], function(Plotly) {\n",
       "            window._Plotly = Plotly;\n",
       "        });\n",
       "        }\n",
       "        </script>\n",
       "        "
      ]
     },
     "metadata": {},
     "output_type": "display_data"
    },
    {
     "data": {
      "text/html": [
       "        <script type=\"text/javascript\">\n",
       "        window.PlotlyConfig = {MathJaxConfig: 'local'};\n",
       "        if (window.MathJax) {MathJax.Hub.Config({SVG: {font: \"STIX-Web\"}});}\n",
       "        if (typeof require !== 'undefined') {\n",
       "        require.undef(\"plotly\");\n",
       "        requirejs.config({\n",
       "            paths: {\n",
       "                'plotly': ['https://cdn.plot.ly/plotly-latest.min']\n",
       "            }\n",
       "        });\n",
       "        require(['plotly'], function(Plotly) {\n",
       "            window._Plotly = Plotly;\n",
       "        });\n",
       "        }\n",
       "        </script>\n",
       "        "
      ]
     },
     "metadata": {},
     "output_type": "display_data"
    }
   ],
   "source": [
    "#importing plotly Library\n",
    "\n",
    "from plotly.offline import iplot\n",
    "import plotly as py\n",
    "import plotly.tools as tls\n",
    "import cufflinks as cf\n",
    "py.offline.init_notebook_mode(connected=True)  \n",
    "cf.go_offline()"
   ]
  },
  {
   "cell_type": "code",
   "execution_count": 3,
   "metadata": {},
   "outputs": [
    {
     "data": {
      "text/html": [
       "<div>\n",
       "<style scoped>\n",
       "    .dataframe tbody tr th:only-of-type {\n",
       "        vertical-align: middle;\n",
       "    }\n",
       "\n",
       "    .dataframe tbody tr th {\n",
       "        vertical-align: top;\n",
       "    }\n",
       "\n",
       "    .dataframe thead th {\n",
       "        text-align: right;\n",
       "    }\n",
       "</style>\n",
       "<table border=\"1\" class=\"dataframe\">\n",
       "  <thead>\n",
       "    <tr style=\"text-align: right;\">\n",
       "      <th></th>\n",
       "      <th>Date received</th>\n",
       "      <th>Product</th>\n",
       "      <th>Sub-product</th>\n",
       "      <th>Issue</th>\n",
       "      <th>Sub-issue</th>\n",
       "      <th>Consumer complaint narrative</th>\n",
       "      <th>Company public response</th>\n",
       "      <th>Company</th>\n",
       "      <th>State</th>\n",
       "      <th>ZIP code</th>\n",
       "      <th>Tags</th>\n",
       "      <th>Consumer consent provided?</th>\n",
       "      <th>Submitted via</th>\n",
       "      <th>Date sent to company</th>\n",
       "      <th>Company response to consumer</th>\n",
       "      <th>Timely response?</th>\n",
       "      <th>Consumer disputed?</th>\n",
       "      <th>Complaint ID</th>\n",
       "    </tr>\n",
       "  </thead>\n",
       "  <tbody>\n",
       "    <tr>\n",
       "      <th>0</th>\n",
       "      <td>08/09/2015</td>\n",
       "      <td>Credit reporting</td>\n",
       "      <td>NaN</td>\n",
       "      <td>Incorrect information on credit report</td>\n",
       "      <td>Information is not mine</td>\n",
       "      <td>NaN</td>\n",
       "      <td>Company chooses not to provide a public response</td>\n",
       "      <td>Experian Information Solutions Inc.</td>\n",
       "      <td>NJ</td>\n",
       "      <td>08872</td>\n",
       "      <td>NaN</td>\n",
       "      <td>Consent not provided</td>\n",
       "      <td>Web</td>\n",
       "      <td>08/09/2015</td>\n",
       "      <td>Closed with non-monetary relief</td>\n",
       "      <td>Yes</td>\n",
       "      <td>No</td>\n",
       "      <td>1509954</td>\n",
       "    </tr>\n",
       "    <tr>\n",
       "      <th>1</th>\n",
       "      <td>12/23/2019</td>\n",
       "      <td>Student loan</td>\n",
       "      <td>Federal student loan servicing</td>\n",
       "      <td>Dealing with your lender or servicer</td>\n",
       "      <td>Trouble with how payments are being handled</td>\n",
       "      <td>NaN</td>\n",
       "      <td>NaN</td>\n",
       "      <td>AES/PHEAA</td>\n",
       "      <td>MA</td>\n",
       "      <td>019XX</td>\n",
       "      <td>NaN</td>\n",
       "      <td>NaN</td>\n",
       "      <td>Web</td>\n",
       "      <td>12/23/2019</td>\n",
       "      <td>Closed with explanation</td>\n",
       "      <td>Yes</td>\n",
       "      <td>NaN</td>\n",
       "      <td>3475943</td>\n",
       "    </tr>\n",
       "    <tr>\n",
       "      <th>2</th>\n",
       "      <td>01/29/2019</td>\n",
       "      <td>Credit reporting, credit repair services, or o...</td>\n",
       "      <td>Credit reporting</td>\n",
       "      <td>Problem with a credit reporting company's inve...</td>\n",
       "      <td>Was not notified of investigation status or re...</td>\n",
       "      <td>NaN</td>\n",
       "      <td>NaN</td>\n",
       "      <td>EQUIFAX, INC.</td>\n",
       "      <td>NY</td>\n",
       "      <td>10801</td>\n",
       "      <td>NaN</td>\n",
       "      <td>Consent not provided</td>\n",
       "      <td>Web</td>\n",
       "      <td>01/30/2019</td>\n",
       "      <td>Closed with non-monetary relief</td>\n",
       "      <td>Yes</td>\n",
       "      <td>NaN</td>\n",
       "      <td>3136759</td>\n",
       "    </tr>\n",
       "    <tr>\n",
       "      <th>3</th>\n",
       "      <td>08/19/2015</td>\n",
       "      <td>Mortgage</td>\n",
       "      <td>Conventional adjustable mortgage (ARM)</td>\n",
       "      <td>Loan servicing, payments, escrow account</td>\n",
       "      <td>NaN</td>\n",
       "      <td>NaN</td>\n",
       "      <td>Company chooses not to provide a public response</td>\n",
       "      <td>WELLS FARGO &amp; COMPANY</td>\n",
       "      <td>CA</td>\n",
       "      <td>94526</td>\n",
       "      <td>NaN</td>\n",
       "      <td>Consent not provided</td>\n",
       "      <td>Web</td>\n",
       "      <td>08/19/2015</td>\n",
       "      <td>Closed with explanation</td>\n",
       "      <td>Yes</td>\n",
       "      <td>No</td>\n",
       "      <td>1527601</td>\n",
       "    </tr>\n",
       "    <tr>\n",
       "      <th>4</th>\n",
       "      <td>03/04/2016</td>\n",
       "      <td>Credit card</td>\n",
       "      <td>NaN</td>\n",
       "      <td>Billing disputes</td>\n",
       "      <td>NaN</td>\n",
       "      <td>I am dissatisfied with the current outcome of ...</td>\n",
       "      <td>NaN</td>\n",
       "      <td>DISCOVER BANK</td>\n",
       "      <td>NV</td>\n",
       "      <td>891XX</td>\n",
       "      <td>NaN</td>\n",
       "      <td>Consent provided</td>\n",
       "      <td>Web</td>\n",
       "      <td>03/04/2016</td>\n",
       "      <td>Closed with explanation</td>\n",
       "      <td>Yes</td>\n",
       "      <td>Yes</td>\n",
       "      <td>1816726</td>\n",
       "    </tr>\n",
       "  </tbody>\n",
       "</table>\n",
       "</div>"
      ],
      "text/plain": [
       "  Date received                                            Product  \\\n",
       "0    08/09/2015                                   Credit reporting   \n",
       "1    12/23/2019                                       Student loan   \n",
       "2    01/29/2019  Credit reporting, credit repair services, or o...   \n",
       "3    08/19/2015                                           Mortgage   \n",
       "4    03/04/2016                                        Credit card   \n",
       "\n",
       "                              Sub-product  \\\n",
       "0                                     NaN   \n",
       "1          Federal student loan servicing   \n",
       "2                        Credit reporting   \n",
       "3  Conventional adjustable mortgage (ARM)   \n",
       "4                                     NaN   \n",
       "\n",
       "                                               Issue  \\\n",
       "0             Incorrect information on credit report   \n",
       "1               Dealing with your lender or servicer   \n",
       "2  Problem with a credit reporting company's inve...   \n",
       "3           Loan servicing, payments, escrow account   \n",
       "4                                   Billing disputes   \n",
       "\n",
       "                                           Sub-issue  \\\n",
       "0                            Information is not mine   \n",
       "1        Trouble with how payments are being handled   \n",
       "2  Was not notified of investigation status or re...   \n",
       "3                                                NaN   \n",
       "4                                                NaN   \n",
       "\n",
       "                        Consumer complaint narrative  \\\n",
       "0                                                NaN   \n",
       "1                                                NaN   \n",
       "2                                                NaN   \n",
       "3                                                NaN   \n",
       "4  I am dissatisfied with the current outcome of ...   \n",
       "\n",
       "                            Company public response  \\\n",
       "0  Company chooses not to provide a public response   \n",
       "1                                               NaN   \n",
       "2                                               NaN   \n",
       "3  Company chooses not to provide a public response   \n",
       "4                                               NaN   \n",
       "\n",
       "                               Company State ZIP code Tags  \\\n",
       "0  Experian Information Solutions Inc.    NJ    08872  NaN   \n",
       "1                            AES/PHEAA    MA    019XX  NaN   \n",
       "2                        EQUIFAX, INC.    NY    10801  NaN   \n",
       "3                WELLS FARGO & COMPANY    CA    94526  NaN   \n",
       "4                        DISCOVER BANK    NV    891XX  NaN   \n",
       "\n",
       "  Consumer consent provided? Submitted via Date sent to company  \\\n",
       "0       Consent not provided           Web           08/09/2015   \n",
       "1                        NaN           Web           12/23/2019   \n",
       "2       Consent not provided           Web           01/30/2019   \n",
       "3       Consent not provided           Web           08/19/2015   \n",
       "4           Consent provided           Web           03/04/2016   \n",
       "\n",
       "      Company response to consumer Timely response? Consumer disputed?  \\\n",
       "0  Closed with non-monetary relief              Yes                 No   \n",
       "1          Closed with explanation              Yes                NaN   \n",
       "2  Closed with non-monetary relief              Yes                NaN   \n",
       "3          Closed with explanation              Yes                 No   \n",
       "4          Closed with explanation              Yes                Yes   \n",
       "\n",
       "   Complaint ID  \n",
       "0       1509954  \n",
       "1       3475943  \n",
       "2       3136759  \n",
       "3       1527601  \n",
       "4       1816726  "
      ]
     },
     "execution_count": 3,
     "metadata": {},
     "output_type": "execute_result"
    }
   ],
   "source": [
    "#importing the datase \n",
    "#See the first 5 entries\n",
    "\n",
    "df=pd.read_csv(r\"C:\\Users\\Sagar Suraj Shirke\\complaintdata.csv\")\n",
    "df.head(5)"
   ]
  },
  {
   "cell_type": "code",
   "execution_count": 4,
   "metadata": {},
   "outputs": [
    {
     "data": {
      "text/html": [
       "<div>\n",
       "<style scoped>\n",
       "    .dataframe tbody tr th:only-of-type {\n",
       "        vertical-align: middle;\n",
       "    }\n",
       "\n",
       "    .dataframe tbody tr th {\n",
       "        vertical-align: top;\n",
       "    }\n",
       "\n",
       "    .dataframe thead th {\n",
       "        text-align: right;\n",
       "    }\n",
       "</style>\n",
       "<table border=\"1\" class=\"dataframe\">\n",
       "  <thead>\n",
       "    <tr style=\"text-align: right;\">\n",
       "      <th></th>\n",
       "      <th>Date received</th>\n",
       "      <th>Product</th>\n",
       "      <th>Sub-product</th>\n",
       "      <th>Issue</th>\n",
       "      <th>Sub-issue</th>\n",
       "      <th>Consumer complaint narrative</th>\n",
       "      <th>Company public response</th>\n",
       "      <th>Company</th>\n",
       "      <th>State</th>\n",
       "      <th>ZIP code</th>\n",
       "      <th>Tags</th>\n",
       "      <th>Consumer consent provided?</th>\n",
       "      <th>Submitted via</th>\n",
       "      <th>Date sent to company</th>\n",
       "      <th>Company response to consumer</th>\n",
       "      <th>Timely response?</th>\n",
       "      <th>Consumer disputed?</th>\n",
       "      <th>Complaint ID</th>\n",
       "    </tr>\n",
       "  </thead>\n",
       "  <tbody>\n",
       "    <tr>\n",
       "      <th>1471761</th>\n",
       "      <td>01/29/2016</td>\n",
       "      <td>Mortgage</td>\n",
       "      <td>Conventional fixed mortgage</td>\n",
       "      <td>Application, originator, mortgage broker</td>\n",
       "      <td>NaN</td>\n",
       "      <td>NaN</td>\n",
       "      <td>Company believes it acted appropriately as aut...</td>\n",
       "      <td>American Financial Network Inc.</td>\n",
       "      <td>CA</td>\n",
       "      <td>91321</td>\n",
       "      <td>NaN</td>\n",
       "      <td>Consent not provided</td>\n",
       "      <td>Web</td>\n",
       "      <td>01/29/2016</td>\n",
       "      <td>Closed with monetary relief</td>\n",
       "      <td>Yes</td>\n",
       "      <td>No</td>\n",
       "      <td>1765368</td>\n",
       "    </tr>\n",
       "    <tr>\n",
       "      <th>1471762</th>\n",
       "      <td>11/27/2019</td>\n",
       "      <td>Debt collection</td>\n",
       "      <td>Other debt</td>\n",
       "      <td>Attempts to collect debt not owed</td>\n",
       "      <td>Debt was paid</td>\n",
       "      <td>NaN</td>\n",
       "      <td>NaN</td>\n",
       "      <td>Diversified Consultants, Inc.</td>\n",
       "      <td>WI</td>\n",
       "      <td>531XX</td>\n",
       "      <td>NaN</td>\n",
       "      <td>NaN</td>\n",
       "      <td>Web</td>\n",
       "      <td>12/12/2019</td>\n",
       "      <td>Closed with explanation</td>\n",
       "      <td>Yes</td>\n",
       "      <td>NaN</td>\n",
       "      <td>3452575</td>\n",
       "    </tr>\n",
       "    <tr>\n",
       "      <th>1471763</th>\n",
       "      <td>05/07/2019</td>\n",
       "      <td>Mortgage</td>\n",
       "      <td>Conventional home mortgage</td>\n",
       "      <td>Struggling to pay mortgage</td>\n",
       "      <td>NaN</td>\n",
       "      <td>Hello, We were approved for a loan modificatio...</td>\n",
       "      <td>NaN</td>\n",
       "      <td>Ocwen Financial Corporation</td>\n",
       "      <td>CA</td>\n",
       "      <td>951XX</td>\n",
       "      <td>NaN</td>\n",
       "      <td>Consent provided</td>\n",
       "      <td>Web</td>\n",
       "      <td>05/07/2019</td>\n",
       "      <td>Closed with explanation</td>\n",
       "      <td>Yes</td>\n",
       "      <td>NaN</td>\n",
       "      <td>3235219</td>\n",
       "    </tr>\n",
       "    <tr>\n",
       "      <th>1471764</th>\n",
       "      <td>07/18/2019</td>\n",
       "      <td>Mortgage</td>\n",
       "      <td>Conventional home mortgage</td>\n",
       "      <td>Closing on a mortgage</td>\n",
       "      <td>NaN</td>\n",
       "      <td>I started the process to refinance my current ...</td>\n",
       "      <td>Company has responded to the consumer and the ...</td>\n",
       "      <td>Freedom Mortgage Company</td>\n",
       "      <td>NC</td>\n",
       "      <td>275XX</td>\n",
       "      <td>NaN</td>\n",
       "      <td>Consent provided</td>\n",
       "      <td>Web</td>\n",
       "      <td>07/18/2019</td>\n",
       "      <td>Closed with explanation</td>\n",
       "      <td>Yes</td>\n",
       "      <td>NaN</td>\n",
       "      <td>3311105</td>\n",
       "    </tr>\n",
       "    <tr>\n",
       "      <th>1471765</th>\n",
       "      <td>11/13/2019</td>\n",
       "      <td>Student loan</td>\n",
       "      <td>Federal student loan servicing</td>\n",
       "      <td>Dealing with your lender or servicer</td>\n",
       "      <td>Trouble with how payments are being handled</td>\n",
       "      <td>NaN</td>\n",
       "      <td>NaN</td>\n",
       "      <td>Nelnet, Inc.</td>\n",
       "      <td>IN</td>\n",
       "      <td>476XX</td>\n",
       "      <td>NaN</td>\n",
       "      <td>NaN</td>\n",
       "      <td>Web</td>\n",
       "      <td>11/13/2019</td>\n",
       "      <td>Closed with explanation</td>\n",
       "      <td>Yes</td>\n",
       "      <td>NaN</td>\n",
       "      <td>3437084</td>\n",
       "    </tr>\n",
       "  </tbody>\n",
       "</table>\n",
       "</div>"
      ],
      "text/plain": [
       "        Date received          Product                     Sub-product  \\\n",
       "1471761    01/29/2016         Mortgage     Conventional fixed mortgage   \n",
       "1471762    11/27/2019  Debt collection                      Other debt   \n",
       "1471763    05/07/2019         Mortgage      Conventional home mortgage   \n",
       "1471764    07/18/2019         Mortgage      Conventional home mortgage   \n",
       "1471765    11/13/2019     Student loan  Federal student loan servicing   \n",
       "\n",
       "                                            Issue  \\\n",
       "1471761  Application, originator, mortgage broker   \n",
       "1471762         Attempts to collect debt not owed   \n",
       "1471763                Struggling to pay mortgage   \n",
       "1471764                     Closing on a mortgage   \n",
       "1471765      Dealing with your lender or servicer   \n",
       "\n",
       "                                           Sub-issue  \\\n",
       "1471761                                          NaN   \n",
       "1471762                                Debt was paid   \n",
       "1471763                                          NaN   \n",
       "1471764                                          NaN   \n",
       "1471765  Trouble with how payments are being handled   \n",
       "\n",
       "                              Consumer complaint narrative  \\\n",
       "1471761                                                NaN   \n",
       "1471762                                                NaN   \n",
       "1471763  Hello, We were approved for a loan modificatio...   \n",
       "1471764  I started the process to refinance my current ...   \n",
       "1471765                                                NaN   \n",
       "\n",
       "                                   Company public response  \\\n",
       "1471761  Company believes it acted appropriately as aut...   \n",
       "1471762                                                NaN   \n",
       "1471763                                                NaN   \n",
       "1471764  Company has responded to the consumer and the ...   \n",
       "1471765                                                NaN   \n",
       "\n",
       "                                 Company State ZIP code Tags  \\\n",
       "1471761  American Financial Network Inc.    CA    91321  NaN   \n",
       "1471762    Diversified Consultants, Inc.    WI    531XX  NaN   \n",
       "1471763      Ocwen Financial Corporation    CA    951XX  NaN   \n",
       "1471764         Freedom Mortgage Company    NC    275XX  NaN   \n",
       "1471765                     Nelnet, Inc.    IN    476XX  NaN   \n",
       "\n",
       "        Consumer consent provided? Submitted via Date sent to company  \\\n",
       "1471761       Consent not provided           Web           01/29/2016   \n",
       "1471762                        NaN           Web           12/12/2019   \n",
       "1471763           Consent provided           Web           05/07/2019   \n",
       "1471764           Consent provided           Web           07/18/2019   \n",
       "1471765                        NaN           Web           11/13/2019   \n",
       "\n",
       "        Company response to consumer Timely response? Consumer disputed?  \\\n",
       "1471761  Closed with monetary relief              Yes                 No   \n",
       "1471762      Closed with explanation              Yes                NaN   \n",
       "1471763      Closed with explanation              Yes                NaN   \n",
       "1471764      Closed with explanation              Yes                NaN   \n",
       "1471765      Closed with explanation              Yes                NaN   \n",
       "\n",
       "         Complaint ID  \n",
       "1471761       1765368  \n",
       "1471762       3452575  \n",
       "1471763       3235219  \n",
       "1471764       3311105  \n",
       "1471765       3437084  "
      ]
     },
     "execution_count": 4,
     "metadata": {},
     "output_type": "execute_result"
    }
   ],
   "source": [
    "df.tail(5)"
   ]
  },
  {
   "cell_type": "markdown",
   "metadata": {},
   "source": [
    "## Data Cleaning, Renaming the columns, Dropping duplicates, Cleaning individual columns, Remove the NaN values from the dataset"
   ]
  },
  {
   "cell_type": "code",
   "execution_count": 5,
   "metadata": {},
   "outputs": [
    {
     "data": {
      "text/plain": [
       "(1471766, 18)"
      ]
     },
     "execution_count": 5,
     "metadata": {},
     "output_type": "execute_result"
    }
   ],
   "source": [
    "df.shape"
   ]
  },
  {
   "cell_type": "code",
   "execution_count": 6,
   "metadata": {},
   "outputs": [
    {
     "name": "stdout",
     "output_type": "stream",
     "text": [
      "<class 'pandas.core.frame.DataFrame'>\n",
      "RangeIndex: 1471766 entries, 0 to 1471765\n",
      "Data columns (total 18 columns):\n",
      " #   Column                        Non-Null Count    Dtype \n",
      "---  ------                        --------------    ----- \n",
      " 0   Date received                 1471766 non-null  object\n",
      " 1   Product                       1471766 non-null  object\n",
      " 2   Sub-product                   1236601 non-null  object\n",
      " 3   Issue                         1471766 non-null  object\n",
      " 4   Sub-issue                     916763 non-null   object\n",
      " 5   Consumer complaint narrative  481087 non-null   object\n",
      " 6   Company public response       548101 non-null   object\n",
      " 7   Company                       1471766 non-null  object\n",
      " 8   State                         1447286 non-null  object\n",
      " 9   ZIP code                      1334581 non-null  object\n",
      " 10  Tags                          200565 non-null   object\n",
      " 11  Consumer consent provided?    862588 non-null   object\n",
      " 12  Submitted via                 1471766 non-null  object\n",
      " 13  Date sent to company          1471766 non-null  object\n",
      " 14  Company response to consumer  1471765 non-null  object\n",
      " 15  Timely response?              1471766 non-null  object\n",
      " 16  Consumer disputed?            768480 non-null   object\n",
      " 17  Complaint ID                  1471766 non-null  int64 \n",
      "dtypes: int64(1), object(17)\n",
      "memory usage: 202.1+ MB\n"
     ]
    }
   ],
   "source": [
    "df.info()"
   ]
  },
  {
   "cell_type": "code",
   "execution_count": 7,
   "metadata": {},
   "outputs": [],
   "source": [
    "del df[\"ZIP code\"]\n",
    "del df[\"Complaint ID\"]\n",
    "del df[\"Submitted via\"]"
   ]
  },
  {
   "cell_type": "code",
   "execution_count": 8,
   "metadata": {},
   "outputs": [
    {
     "data": {
      "text/plain": [
       "57819"
      ]
     },
     "execution_count": 8,
     "metadata": {},
     "output_type": "execute_result"
    }
   ],
   "source": [
    "df.duplicated().sum()"
   ]
  },
  {
   "cell_type": "code",
   "execution_count": 9,
   "metadata": {},
   "outputs": [
    {
     "data": {
      "text/plain": [
       "Date received                         0\n",
       "Product                               0\n",
       "Sub-product                      235165\n",
       "Issue                                 0\n",
       "Sub-issue                        555003\n",
       "Consumer complaint narrative     990679\n",
       "Company public response          923665\n",
       "Company                               0\n",
       "State                             24480\n",
       "Tags                            1271201\n",
       "Consumer consent provided?       609178\n",
       "Date sent to company                  0\n",
       "Company response to consumer          1\n",
       "Timely response?                      0\n",
       "Consumer disputed?               703286\n",
       "dtype: int64"
      ]
     },
     "execution_count": 9,
     "metadata": {},
     "output_type": "execute_result"
    }
   ],
   "source": [
    "df.isnull().sum()"
   ]
  },
  {
   "cell_type": "code",
   "execution_count": 10,
   "metadata": {},
   "outputs": [
    {
     "data": {
      "text/plain": [
       "<AxesSubplot:>"
      ]
     },
     "execution_count": 10,
     "metadata": {},
     "output_type": "execute_result"
    },
    {
     "data": {
      "image/png": "[encoded data removed]",
      "text/plain": [
       "<Figure size 432x288 with 1 Axes>"
      ]
     },
     "metadata": {
      "needs_background": "light"
     },
     "output_type": "display_data"
    }
   ],
   "source": [
    "sns.heatmap(df.isnull(), cbar=False)"
   ]
  },
  {
   "cell_type": "code",
   "execution_count": 11,
   "metadata": {},
   "outputs": [],
   "source": [
    "df.dropna(how='any',inplace=True)\n"
   ]
  },
  {
   "cell_type": "code",
   "execution_count": 12,
   "metadata": {},
   "outputs": [
    {
     "data": {
      "text/plain": [
       "Date received                   0\n",
       "Product                         0\n",
       "Sub-product                     0\n",
       "Issue                           0\n",
       "Sub-issue                       0\n",
       "Consumer complaint narrative    0\n",
       "Company public response         0\n",
       "Company                         0\n",
       "State                           0\n",
       "Tags                            0\n",
       "Consumer consent provided?      0\n",
       "Date sent to company            0\n",
       "Company response to consumer    0\n",
       "Timely response?                0\n",
       "Consumer disputed?              0\n",
       "dtype: int64"
      ]
     },
     "execution_count": 12,
     "metadata": {},
     "output_type": "execute_result"
    }
   ],
   "source": [
    "#checking the NaN values\n",
    "df.isnull().sum()"
   ]
  },
  {
   "cell_type": "code",
   "execution_count": 13,
   "metadata": {},
   "outputs": [
    {
     "data": {
      "text/plain": [
       "<AxesSubplot:>"
      ]
     },
     "execution_count": 13,
     "metadata": {},
     "output_type": "execute_result"
    },
    {
     "data": {
      "image/png": "[encoded data removed]",
      "text/plain": [
       "<Figure size 432x288 with 1 Axes>"
      ]
     },
     "metadata": {
      "needs_background": "light"
     },
     "output_type": "display_data"
    }
   ],
   "source": [
    "sns.heatmap(df.isnull(), cbar=False)"
   ]
  },
  {
   "cell_type": "code",
   "execution_count": 14,
   "metadata": {},
   "outputs": [
    {
     "data": {
      "text/plain": [
       "Index(['Date received', 'Product', 'Sub-product', 'Issue', 'Sub-issue',\n",
       "       'Consumer complaint narrative', 'Company public response', 'Company',\n",
       "       'State', 'Tags', 'Consumer consent provided?', 'Date sent to company',\n",
       "       'Company response to consumer', 'Timely response?',\n",
       "       'Consumer disputed?'],\n",
       "      dtype='object')"
      ]
     },
     "execution_count": 14,
     "metadata": {},
     "output_type": "execute_result"
    }
   ],
   "source": [
    "#Reading Column Names\n",
    "df.columns"
   ]
  },
  {
   "cell_type": "code",
   "execution_count": 15,
   "metadata": {},
   "outputs": [
    {
     "data": {
      "text/plain": [
       "Index(['Date received', 'Product', 'Sub-product', 'Issue', 'Sub-issue', 'ccn',\n",
       "       'Company public response', 'Company', 'State', 'Tags', 'ccp',\n",
       "       'Date sent to company', 'crc', 'Timely response?',\n",
       "       'Consumer disputed?'],\n",
       "      dtype='object')"
      ]
     },
     "execution_count": 15,
     "metadata": {},
     "output_type": "execute_result"
    }
   ],
   "source": [
    "#Changing the column names\n",
    "df = df.rename(columns={'Consumer consent provided?':'ccp','Consumer complaint narrative':'ccn',\n",
    "                                  'Company response to consumer':'crc'})\n",
    "df.columns"
   ]
  },
  {
   "cell_type": "code",
   "execution_count": 16,
   "metadata": {},
   "outputs": [
    {
     "data": {
      "text/html": [
       "<div>\n",
       "<style scoped>\n",
       "    .dataframe tbody tr th:only-of-type {\n",
       "        vertical-align: middle;\n",
       "    }\n",
       "\n",
       "    .dataframe tbody tr th {\n",
       "        vertical-align: top;\n",
       "    }\n",
       "\n",
       "    .dataframe thead th {\n",
       "        text-align: right;\n",
       "    }\n",
       "</style>\n",
       "<table border=\"1\" class=\"dataframe\">\n",
       "  <thead>\n",
       "    <tr style=\"text-align: right;\">\n",
       "      <th></th>\n",
       "      <th>Date received</th>\n",
       "      <th>Product</th>\n",
       "      <th>Sub-product</th>\n",
       "      <th>Issue</th>\n",
       "      <th>Sub-issue</th>\n",
       "      <th>ccn</th>\n",
       "      <th>Company public response</th>\n",
       "      <th>Company</th>\n",
       "      <th>State</th>\n",
       "      <th>Tags</th>\n",
       "      <th>ccp</th>\n",
       "      <th>Date sent to company</th>\n",
       "      <th>crc</th>\n",
       "      <th>Timely response?</th>\n",
       "      <th>Consumer disputed?</th>\n",
       "    </tr>\n",
       "  </thead>\n",
       "  <tbody>\n",
       "    <tr>\n",
       "      <th>253</th>\n",
       "      <td>10/10/2016</td>\n",
       "      <td>Debt collection</td>\n",
       "      <td>Credit card</td>\n",
       "      <td>Taking/threatening an illegal action</td>\n",
       "      <td>Threatened arrest/jail if do not pay</td>\n",
       "      <td>XXXX AND XXXX ON BEHALF OF BANK OF AMERICA HAS...</td>\n",
       "      <td>Company has responded to the consumer and the ...</td>\n",
       "      <td>BANK OF AMERICA, NATIONAL ASSOCIATION</td>\n",
       "      <td>CA</td>\n",
       "      <td>Servicemember</td>\n",
       "      <td>Consent provided</td>\n",
       "      <td>10/10/2016</td>\n",
       "      <td>Closed with explanation</td>\n",
       "      <td>Yes</td>\n",
       "      <td>No</td>\n",
       "    </tr>\n",
       "  </tbody>\n",
       "</table>\n",
       "</div>"
      ],
      "text/plain": [
       "    Date received          Product  Sub-product  \\\n",
       "253    10/10/2016  Debt collection  Credit card   \n",
       "\n",
       "                                    Issue  \\\n",
       "253  Taking/threatening an illegal action   \n",
       "\n",
       "                                Sub-issue  \\\n",
       "253  Threatened arrest/jail if do not pay   \n",
       "\n",
       "                                                   ccn  \\\n",
       "253  XXXX AND XXXX ON BEHALF OF BANK OF AMERICA HAS...   \n",
       "\n",
       "                               Company public response  \\\n",
       "253  Company has responded to the consumer and the ...   \n",
       "\n",
       "                                   Company State           Tags  \\\n",
       "253  BANK OF AMERICA, NATIONAL ASSOCIATION    CA  Servicemember   \n",
       "\n",
       "                  ccp Date sent to company                      crc  \\\n",
       "253  Consent provided           10/10/2016  Closed with explanation   \n",
       "\n",
       "    Timely response? Consumer disputed?  \n",
       "253              Yes                 No  "
      ]
     },
     "execution_count": 16,
     "metadata": {},
     "output_type": "execute_result"
    }
   ],
   "source": [
    "df.head(1)"
   ]
  },
  {
   "cell_type": "code",
   "execution_count": 17,
   "metadata": {},
   "outputs": [
    {
     "data": {
      "text/plain": [
       "(3120, 15)"
      ]
     },
     "execution_count": 17,
     "metadata": {},
     "output_type": "execute_result"
    }
   ],
   "source": [
    "df.shape"
   ]
  },
  {
   "cell_type": "code",
   "execution_count": 18,
   "metadata": {},
   "outputs": [
    {
     "data": {
      "text/html": [
       "<div>\n",
       "<style scoped>\n",
       "    .dataframe tbody tr th:only-of-type {\n",
       "        vertical-align: middle;\n",
       "    }\n",
       "\n",
       "    .dataframe tbody tr th {\n",
       "        vertical-align: top;\n",
       "    }\n",
       "\n",
       "    .dataframe thead th {\n",
       "        text-align: right;\n",
       "    }\n",
       "</style>\n",
       "<table border=\"1\" class=\"dataframe\">\n",
       "  <thead>\n",
       "    <tr style=\"text-align: right;\">\n",
       "      <th></th>\n",
       "      <th>Date received</th>\n",
       "      <th>Product</th>\n",
       "      <th>Sub-product</th>\n",
       "      <th>Issue</th>\n",
       "      <th>Sub-issue</th>\n",
       "      <th>ccn</th>\n",
       "      <th>Company public response</th>\n",
       "      <th>Company</th>\n",
       "      <th>State</th>\n",
       "      <th>Tags</th>\n",
       "      <th>ccp</th>\n",
       "      <th>Date sent to company</th>\n",
       "      <th>crc</th>\n",
       "      <th>Timely response?</th>\n",
       "      <th>Consumer disputed?</th>\n",
       "    </tr>\n",
       "  </thead>\n",
       "  <tbody>\n",
       "    <tr>\n",
       "      <th>count</th>\n",
       "      <td>3120</td>\n",
       "      <td>3120</td>\n",
       "      <td>3120</td>\n",
       "      <td>3120</td>\n",
       "      <td>3120</td>\n",
       "      <td>3120</td>\n",
       "      <td>3120</td>\n",
       "      <td>3120</td>\n",
       "      <td>3120</td>\n",
       "      <td>3120</td>\n",
       "      <td>3120</td>\n",
       "      <td>3120</td>\n",
       "      <td>3120</td>\n",
       "      <td>3120</td>\n",
       "      <td>3120</td>\n",
       "    </tr>\n",
       "    <tr>\n",
       "      <th>unique</th>\n",
       "      <td>728</td>\n",
       "      <td>2</td>\n",
       "      <td>10</td>\n",
       "      <td>9</td>\n",
       "      <td>37</td>\n",
       "      <td>3102</td>\n",
       "      <td>10</td>\n",
       "      <td>627</td>\n",
       "      <td>57</td>\n",
       "      <td>3</td>\n",
       "      <td>1</td>\n",
       "      <td>708</td>\n",
       "      <td>4</td>\n",
       "      <td>2</td>\n",
       "      <td>2</td>\n",
       "    </tr>\n",
       "    <tr>\n",
       "      <th>top</th>\n",
       "      <td>09/23/2015</td>\n",
       "      <td>Debt collection</td>\n",
       "      <td>Other (i.e. phone, health club, etc.)</td>\n",
       "      <td>Cont'd attempts collect debt not owed</td>\n",
       "      <td>Debt is not mine</td>\n",
       "      <td>I am a victim of identity theft. Several years...</td>\n",
       "      <td>Company believes it acted appropriately as aut...</td>\n",
       "      <td>ERC</td>\n",
       "      <td>CA</td>\n",
       "      <td>Servicemember</td>\n",
       "      <td>Consent provided</td>\n",
       "      <td>03/25/2015</td>\n",
       "      <td>Closed with explanation</td>\n",
       "      <td>Yes</td>\n",
       "      <td>No</td>\n",
       "    </tr>\n",
       "    <tr>\n",
       "      <th>freq</th>\n",
       "      <td>14</td>\n",
       "      <td>2983</td>\n",
       "      <td>1084</td>\n",
       "      <td>1471</td>\n",
       "      <td>886</td>\n",
       "      <td>3</td>\n",
       "      <td>1348</td>\n",
       "      <td>175</td>\n",
       "      <td>395</td>\n",
       "      <td>1833</td>\n",
       "      <td>3120</td>\n",
       "      <td>15</td>\n",
       "      <td>2453</td>\n",
       "      <td>2981</td>\n",
       "      <td>2454</td>\n",
       "    </tr>\n",
       "  </tbody>\n",
       "</table>\n",
       "</div>"
      ],
      "text/plain": [
       "       Date received          Product                            Sub-product  \\\n",
       "count           3120             3120                                   3120   \n",
       "unique           728                2                                     10   \n",
       "top       09/23/2015  Debt collection  Other (i.e. phone, health club, etc.)   \n",
       "freq              14             2983                                   1084   \n",
       "\n",
       "                                        Issue         Sub-issue  \\\n",
       "count                                    3120              3120   \n",
       "unique                                      9                37   \n",
       "top     Cont'd attempts collect debt not owed  Debt is not mine   \n",
       "freq                                     1471               886   \n",
       "\n",
       "                                                      ccn  \\\n",
       "count                                                3120   \n",
       "unique                                               3102   \n",
       "top     I am a victim of identity theft. Several years...   \n",
       "freq                                                    3   \n",
       "\n",
       "                                  Company public response Company State  \\\n",
       "count                                                3120    3120  3120   \n",
       "unique                                                 10     627    57   \n",
       "top     Company believes it acted appropriately as aut...     ERC    CA   \n",
       "freq                                                 1348     175   395   \n",
       "\n",
       "                 Tags               ccp Date sent to company  \\\n",
       "count            3120              3120                 3120   \n",
       "unique              3                 1                  708   \n",
       "top     Servicemember  Consent provided           03/25/2015   \n",
       "freq             1833              3120                   15   \n",
       "\n",
       "                            crc Timely response? Consumer disputed?  \n",
       "count                      3120             3120               3120  \n",
       "unique                        4                2                  2  \n",
       "top     Closed with explanation              Yes                 No  \n",
       "freq                       2453             2981               2454  "
      ]
     },
     "execution_count": 18,
     "metadata": {},
     "output_type": "execute_result"
    }
   ],
   "source": [
    "df.describe()"
   ]
  },
  {
   "cell_type": "code",
   "execution_count": 19,
   "metadata": {},
   "outputs": [
    {
     "data": {
      "text/html": [
       "<div>\n",
       "<style scoped>\n",
       "    .dataframe tbody tr th:only-of-type {\n",
       "        vertical-align: middle;\n",
       "    }\n",
       "\n",
       "    .dataframe tbody tr th {\n",
       "        vertical-align: top;\n",
       "    }\n",
       "\n",
       "    .dataframe thead th {\n",
       "        text-align: right;\n",
       "    }\n",
       "</style>\n",
       "<table border=\"1\" class=\"dataframe\">\n",
       "  <thead>\n",
       "    <tr style=\"text-align: right;\">\n",
       "      <th></th>\n",
       "      <th>Date received</th>\n",
       "      <th>Sub-product</th>\n",
       "      <th>Issue</th>\n",
       "      <th>Sub-issue</th>\n",
       "      <th>ccn</th>\n",
       "      <th>Company public response</th>\n",
       "      <th>Company</th>\n",
       "      <th>State</th>\n",
       "      <th>Tags</th>\n",
       "      <th>ccp</th>\n",
       "      <th>Date sent to company</th>\n",
       "      <th>crc</th>\n",
       "      <th>Timely response?</th>\n",
       "      <th>Consumer disputed?</th>\n",
       "    </tr>\n",
       "    <tr>\n",
       "      <th>Product</th>\n",
       "      <th></th>\n",
       "      <th></th>\n",
       "      <th></th>\n",
       "      <th></th>\n",
       "      <th></th>\n",
       "      <th></th>\n",
       "      <th></th>\n",
       "      <th></th>\n",
       "      <th></th>\n",
       "      <th></th>\n",
       "      <th></th>\n",
       "      <th></th>\n",
       "      <th></th>\n",
       "      <th></th>\n",
       "    </tr>\n",
       "  </thead>\n",
       "  <tbody>\n",
       "    <tr>\n",
       "      <th>Debt collection</th>\n",
       "      <td>10/10/201603/20/201510/13/201606/17/201605/05/...</td>\n",
       "      <td>Credit cardI do not knowOther (i.e. phone, hea...</td>\n",
       "      <td>Taking/threatening an illegal actionCont'd att...</td>\n",
       "      <td>Threatened arrest/jail if do not payDebt is no...</td>\n",
       "      <td>XXXX AND XXXX ON BEHALF OF BANK OF AMERICA HAS...</td>\n",
       "      <td>Company has responded to the consumer and the ...</td>\n",
       "      <td>BANK OF AMERICA, NATIONAL ASSOCIATIONALLY FINA...</td>\n",
       "      <td>CAMDCAFLMDCOMDIANCILINCAFLNMFLSCTXMOCAMACACANY...</td>\n",
       "      <td>ServicememberServicememberServicememberOlder A...</td>\n",
       "      <td>Consent providedConsent providedConsent provid...</td>\n",
       "      <td>10/10/201603/26/201510/13/201606/20/201605/05/...</td>\n",
       "      <td>Closed with explanationClosed with explanation...</td>\n",
       "      <td>YesYesYesYesYesYesYesYesYesYesYesYesYesYesYesY...</td>\n",
       "      <td>NoNoNoNoNoNoNoNoNoYesNoNoNoNoNoNoNoNoNoNoNoNoN...</td>\n",
       "    </tr>\n",
       "    <tr>\n",
       "      <th>Student loan</th>\n",
       "      <td>10/30/201503/15/201706/26/201510/21/201602/22/...</td>\n",
       "      <td>Non-federal student loanFederal student loan s...</td>\n",
       "      <td>Can't repay my loanDealing with my lender or s...</td>\n",
       "      <td>Can't temporarily postpone paymentsReceived ba...</td>\n",
       "      <td>I am co signer on daughters loan and daughter ...</td>\n",
       "      <td>Company chooses not to provide a public respon...</td>\n",
       "      <td>WELLS FARGO &amp; COMPANYGREAT LAKESWELLS FARGO &amp; ...</td>\n",
       "      <td>TXUTVACACANYNYTXWVTXPACTNYCTCAVACAUTNJFLMNWACA...</td>\n",
       "      <td>Older AmericanServicememberServicememberServic...</td>\n",
       "      <td>Consent providedConsent providedConsent provid...</td>\n",
       "      <td>10/30/201503/15/201706/26/201510/25/201603/15/...</td>\n",
       "      <td>Closed with explanationClosed with explanation...</td>\n",
       "      <td>YesYesYesYesNoYesYesYesYesYesYesYesYesYesYesYe...</td>\n",
       "      <td>NoNoNoNoNoNoNoNoNoNoNoNoNoNoNoNoNoNoNoNoYesNoY...</td>\n",
       "    </tr>\n",
       "  </tbody>\n",
       "</table>\n",
       "</div>"
      ],
      "text/plain": [
       "                                                     Date received  \\\n",
       "Product                                                              \n",
       "Debt collection  10/10/201603/20/201510/13/201606/17/201605/05/...   \n",
       "Student loan     10/30/201503/15/201706/26/201510/21/201602/22/...   \n",
       "\n",
       "                                                       Sub-product  \\\n",
       "Product                                                              \n",
       "Debt collection  Credit cardI do not knowOther (i.e. phone, hea...   \n",
       "Student loan     Non-federal student loanFederal student loan s...   \n",
       "\n",
       "                                                             Issue  \\\n",
       "Product                                                              \n",
       "Debt collection  Taking/threatening an illegal actionCont'd att...   \n",
       "Student loan     Can't repay my loanDealing with my lender or s...   \n",
       "\n",
       "                                                         Sub-issue  \\\n",
       "Product                                                              \n",
       "Debt collection  Threatened arrest/jail if do not payDebt is no...   \n",
       "Student loan     Can't temporarily postpone paymentsReceived ba...   \n",
       "\n",
       "                                                               ccn  \\\n",
       "Product                                                              \n",
       "Debt collection  XXXX AND XXXX ON BEHALF OF BANK OF AMERICA HAS...   \n",
       "Student loan     I am co signer on daughters loan and daughter ...   \n",
       "\n",
       "                                           Company public response  \\\n",
       "Product                                                              \n",
       "Debt collection  Company has responded to the consumer and the ...   \n",
       "Student loan     Company chooses not to provide a public respon...   \n",
       "\n",
       "                                                           Company  \\\n",
       "Product                                                              \n",
       "Debt collection  BANK OF AMERICA, NATIONAL ASSOCIATIONALLY FINA...   \n",
       "Student loan     WELLS FARGO & COMPANYGREAT LAKESWELLS FARGO & ...   \n",
       "\n",
       "                                                             State  \\\n",
       "Product                                                              \n",
       "Debt collection  CAMDCAFLMDCOMDIANCILINCAFLNMFLSCTXMOCAMACACANY...   \n",
       "Student loan     TXUTVACACANYNYTXWVTXPACTNYCTCAVACAUTNJFLMNWACA...   \n",
       "\n",
       "                                                              Tags  \\\n",
       "Product                                                              \n",
       "Debt collection  ServicememberServicememberServicememberOlder A...   \n",
       "Student loan     Older AmericanServicememberServicememberServic...   \n",
       "\n",
       "                                                               ccp  \\\n",
       "Product                                                              \n",
       "Debt collection  Consent providedConsent providedConsent provid...   \n",
       "Student loan     Consent providedConsent providedConsent provid...   \n",
       "\n",
       "                                              Date sent to company  \\\n",
       "Product                                                              \n",
       "Debt collection  10/10/201603/26/201510/13/201606/20/201605/05/...   \n",
       "Student loan     10/30/201503/15/201706/26/201510/25/201603/15/...   \n",
       "\n",
       "                                                               crc  \\\n",
       "Product                                                              \n",
       "Debt collection  Closed with explanationClosed with explanation...   \n",
       "Student loan     Closed with explanationClosed with explanation...   \n",
       "\n",
       "                                                  Timely response?  \\\n",
       "Product                                                              \n",
       "Debt collection  YesYesYesYesYesYesYesYesYesYesYesYesYesYesYesY...   \n",
       "Student loan     YesYesYesYesNoYesYesYesYesYesYesYesYesYesYesYe...   \n",
       "\n",
       "                                                Consumer disputed?  \n",
       "Product                                                             \n",
       "Debt collection  NoNoNoNoNoNoNoNoNoYesNoNoNoNoNoNoNoNoNoNoNoNoN...  \n",
       "Student loan     NoNoNoNoNoNoNoNoNoNoNoNoNoNoNoNoNoNoNoNoYesNoY...  "
      ]
     },
     "execution_count": 19,
     "metadata": {},
     "output_type": "execute_result"
    }
   ],
   "source": [
    "#Group the dataset by Product\n",
    "a = df.groupby('Product')\n",
    "a = a.sum()\n",
    "a"
   ]
  },
  {
   "cell_type": "code",
   "execution_count": 20,
   "metadata": {},
   "outputs": [
    {
     "data": {
      "text/html": [
       "<div>\n",
       "<style scoped>\n",
       "    .dataframe tbody tr th:only-of-type {\n",
       "        vertical-align: middle;\n",
       "    }\n",
       "\n",
       "    .dataframe tbody tr th {\n",
       "        vertical-align: top;\n",
       "    }\n",
       "\n",
       "    .dataframe thead th {\n",
       "        text-align: right;\n",
       "    }\n",
       "</style>\n",
       "<table border=\"1\" class=\"dataframe\">\n",
       "  <thead>\n",
       "    <tr style=\"text-align: right;\">\n",
       "      <th></th>\n",
       "      <th>Date received</th>\n",
       "      <th>Product</th>\n",
       "      <th>Sub-product</th>\n",
       "      <th>Issue</th>\n",
       "      <th>Sub-issue</th>\n",
       "      <th>ccn</th>\n",
       "      <th>Company public response</th>\n",
       "      <th>Company</th>\n",
       "      <th>State</th>\n",
       "      <th>Tags</th>\n",
       "      <th>ccp</th>\n",
       "      <th>Date sent to company</th>\n",
       "      <th>crc</th>\n",
       "      <th>Timely response?</th>\n",
       "      <th>Consumer disputed?</th>\n",
       "    </tr>\n",
       "  </thead>\n",
       "  <tbody>\n",
       "    <tr>\n",
       "      <th>1815</th>\n",
       "      <td>10/30/2015</td>\n",
       "      <td>Student loan</td>\n",
       "      <td>Non-federal student loan</td>\n",
       "      <td>Can't repay my loan</td>\n",
       "      <td>Can't temporarily postpone payments</td>\n",
       "      <td>I am co signer on daughters loan and daughter ...</td>\n",
       "      <td>Company chooses not to provide a public response</td>\n",
       "      <td>WELLS FARGO &amp; COMPANY</td>\n",
       "      <td>TX</td>\n",
       "      <td>Older American</td>\n",
       "      <td>Consent provided</td>\n",
       "      <td>10/30/2015</td>\n",
       "      <td>Closed with explanation</td>\n",
       "      <td>Yes</td>\n",
       "      <td>No</td>\n",
       "    </tr>\n",
       "    <tr>\n",
       "      <th>6293</th>\n",
       "      <td>03/15/2017</td>\n",
       "      <td>Student loan</td>\n",
       "      <td>Federal student loan servicing</td>\n",
       "      <td>Dealing with my lender or servicer</td>\n",
       "      <td>Received bad information about my loan</td>\n",
       "      <td>After reviewing my credit report i noticed acc...</td>\n",
       "      <td>Company believes it acted appropriately as aut...</td>\n",
       "      <td>GREAT LAKES</td>\n",
       "      <td>UT</td>\n",
       "      <td>Servicemember</td>\n",
       "      <td>Consent provided</td>\n",
       "      <td>03/15/2017</td>\n",
       "      <td>Closed with explanation</td>\n",
       "      <td>Yes</td>\n",
       "      <td>No</td>\n",
       "    </tr>\n",
       "    <tr>\n",
       "      <th>84565</th>\n",
       "      <td>06/26/2015</td>\n",
       "      <td>Student loan</td>\n",
       "      <td>Non-federal student loan</td>\n",
       "      <td>Dealing with my lender or servicer</td>\n",
       "      <td>Trouble with how payments are handled</td>\n",
       "      <td>I 'm not satisfied with Well Fargo 's response...</td>\n",
       "      <td>Company chooses not to provide a public response</td>\n",
       "      <td>WELLS FARGO &amp; COMPANY</td>\n",
       "      <td>VA</td>\n",
       "      <td>Servicemember</td>\n",
       "      <td>Consent provided</td>\n",
       "      <td>06/26/2015</td>\n",
       "      <td>Closed with non-monetary relief</td>\n",
       "      <td>Yes</td>\n",
       "      <td>No</td>\n",
       "    </tr>\n",
       "    <tr>\n",
       "      <th>87299</th>\n",
       "      <td>10/21/2016</td>\n",
       "      <td>Student loan</td>\n",
       "      <td>Non-federal student loan</td>\n",
       "      <td>Dealing with my lender or servicer</td>\n",
       "      <td>Having problems with customer service</td>\n",
       "      <td>I signed as co-signer for an initial applicati...</td>\n",
       "      <td>Company has responded to the consumer and the ...</td>\n",
       "      <td>Experian Information Solutions Inc.</td>\n",
       "      <td>CA</td>\n",
       "      <td>Servicemember</td>\n",
       "      <td>Consent provided</td>\n",
       "      <td>10/25/2016</td>\n",
       "      <td>Closed with explanation</td>\n",
       "      <td>Yes</td>\n",
       "      <td>No</td>\n",
       "    </tr>\n",
       "    <tr>\n",
       "      <th>113571</th>\n",
       "      <td>02/22/2017</td>\n",
       "      <td>Student loan</td>\n",
       "      <td>Federal student loan servicing</td>\n",
       "      <td>Dealing with my lender or servicer</td>\n",
       "      <td>Trouble with how payments are handled</td>\n",
       "      <td>I had previously submitted complaint and have ...</td>\n",
       "      <td>Company has responded to the consumer and the ...</td>\n",
       "      <td>Utah System of Higher Education</td>\n",
       "      <td>CA</td>\n",
       "      <td>Older American</td>\n",
       "      <td>Consent provided</td>\n",
       "      <td>03/15/2017</td>\n",
       "      <td>Closed</td>\n",
       "      <td>No</td>\n",
       "      <td>No</td>\n",
       "    </tr>\n",
       "    <tr>\n",
       "      <th>...</th>\n",
       "      <td>...</td>\n",
       "      <td>...</td>\n",
       "      <td>...</td>\n",
       "      <td>...</td>\n",
       "      <td>...</td>\n",
       "      <td>...</td>\n",
       "      <td>...</td>\n",
       "      <td>...</td>\n",
       "      <td>...</td>\n",
       "      <td>...</td>\n",
       "      <td>...</td>\n",
       "      <td>...</td>\n",
       "      <td>...</td>\n",
       "      <td>...</td>\n",
       "      <td>...</td>\n",
       "    </tr>\n",
       "    <tr>\n",
       "      <th>1170013</th>\n",
       "      <td>02/06/2017</td>\n",
       "      <td>Student loan</td>\n",
       "      <td>Non-federal student loan</td>\n",
       "      <td>Dealing with my lender or servicer</td>\n",
       "      <td>Trouble with how payments are handled</td>\n",
       "      <td>I had co-signed for my grandson for a XXXX stu...</td>\n",
       "      <td>Company believes it acted appropriately as aut...</td>\n",
       "      <td>SLM CORPORATION</td>\n",
       "      <td>MI</td>\n",
       "      <td>Older American</td>\n",
       "      <td>Consent provided</td>\n",
       "      <td>02/09/2017</td>\n",
       "      <td>Closed with explanation</td>\n",
       "      <td>Yes</td>\n",
       "      <td>No</td>\n",
       "    </tr>\n",
       "    <tr>\n",
       "      <th>1201449</th>\n",
       "      <td>08/10/2016</td>\n",
       "      <td>Student loan</td>\n",
       "      <td>Federal student loan servicing</td>\n",
       "      <td>Can't repay my loan</td>\n",
       "      <td>Can't decrease my monthly payments</td>\n",
       "      <td>The borrower, XXXX XXXX, had agreed to XXXX lo...</td>\n",
       "      <td>Company believes it acted appropriately as aut...</td>\n",
       "      <td>Account Control Technology, Inc.</td>\n",
       "      <td>NY</td>\n",
       "      <td>Older American</td>\n",
       "      <td>Consent provided</td>\n",
       "      <td>08/12/2016</td>\n",
       "      <td>Closed with explanation</td>\n",
       "      <td>Yes</td>\n",
       "      <td>No</td>\n",
       "    </tr>\n",
       "    <tr>\n",
       "      <th>1218079</th>\n",
       "      <td>10/23/2015</td>\n",
       "      <td>Student loan</td>\n",
       "      <td>Non-federal student loan</td>\n",
       "      <td>Dealing with my lender or servicer</td>\n",
       "      <td>Received bad information about my loan</td>\n",
       "      <td>I just found out that I have to pay off an add...</td>\n",
       "      <td>Company believes complaint caused principally ...</td>\n",
       "      <td>First Associates Loan Servicing LLC</td>\n",
       "      <td>PA</td>\n",
       "      <td>Servicemember</td>\n",
       "      <td>Consent provided</td>\n",
       "      <td>10/23/2015</td>\n",
       "      <td>Closed with explanation</td>\n",
       "      <td>Yes</td>\n",
       "      <td>No</td>\n",
       "    </tr>\n",
       "    <tr>\n",
       "      <th>1332350</th>\n",
       "      <td>01/07/2017</td>\n",
       "      <td>Student loan</td>\n",
       "      <td>Federal student loan servicing</td>\n",
       "      <td>Dealing with my lender or servicer</td>\n",
       "      <td>Need information about my balance/terms</td>\n",
       "      <td>Hello, XXXX ( XXXX is a bill collector ) of Su...</td>\n",
       "      <td>Company has responded to the consumer and the ...</td>\n",
       "      <td>SUNTRUST BANKS, INC.</td>\n",
       "      <td>CA</td>\n",
       "      <td>Servicemember</td>\n",
       "      <td>Consent provided</td>\n",
       "      <td>01/10/2017</td>\n",
       "      <td>Closed with explanation</td>\n",
       "      <td>Yes</td>\n",
       "      <td>Yes</td>\n",
       "    </tr>\n",
       "    <tr>\n",
       "      <th>1470454</th>\n",
       "      <td>12/04/2016</td>\n",
       "      <td>Student loan</td>\n",
       "      <td>Federal student loan servicing</td>\n",
       "      <td>Dealing with my lender or servicer</td>\n",
       "      <td>Received bad information about my loan</td>\n",
       "      <td>I was told that I had to take out loans until ...</td>\n",
       "      <td>Company has responded to the consumer and the ...</td>\n",
       "      <td>Financial Asset Management Systems Inc</td>\n",
       "      <td>CA</td>\n",
       "      <td>Servicemember</td>\n",
       "      <td>Consent provided</td>\n",
       "      <td>12/13/2016</td>\n",
       "      <td>Closed with non-monetary relief</td>\n",
       "      <td>Yes</td>\n",
       "      <td>No</td>\n",
       "    </tr>\n",
       "  </tbody>\n",
       "</table>\n",
       "<p>137 rows × 15 columns</p>\n",
       "</div>"
      ],
      "text/plain": [
       "        Date received       Product                     Sub-product  \\\n",
       "1815       10/30/2015  Student loan        Non-federal student loan   \n",
       "6293       03/15/2017  Student loan  Federal student loan servicing   \n",
       "84565      06/26/2015  Student loan        Non-federal student loan   \n",
       "87299      10/21/2016  Student loan        Non-federal student loan   \n",
       "113571     02/22/2017  Student loan  Federal student loan servicing   \n",
       "...               ...           ...                             ...   \n",
       "1170013    02/06/2017  Student loan        Non-federal student loan   \n",
       "1201449    08/10/2016  Student loan  Federal student loan servicing   \n",
       "1218079    10/23/2015  Student loan        Non-federal student loan   \n",
       "1332350    01/07/2017  Student loan  Federal student loan servicing   \n",
       "1470454    12/04/2016  Student loan  Federal student loan servicing   \n",
       "\n",
       "                                      Issue  \\\n",
       "1815                    Can't repay my loan   \n",
       "6293     Dealing with my lender or servicer   \n",
       "84565    Dealing with my lender or servicer   \n",
       "87299    Dealing with my lender or servicer   \n",
       "113571   Dealing with my lender or servicer   \n",
       "...                                     ...   \n",
       "1170013  Dealing with my lender or servicer   \n",
       "1201449                 Can't repay my loan   \n",
       "1218079  Dealing with my lender or servicer   \n",
       "1332350  Dealing with my lender or servicer   \n",
       "1470454  Dealing with my lender or servicer   \n",
       "\n",
       "                                       Sub-issue  \\\n",
       "1815         Can't temporarily postpone payments   \n",
       "6293      Received bad information about my loan   \n",
       "84565      Trouble with how payments are handled   \n",
       "87299      Having problems with customer service   \n",
       "113571     Trouble with how payments are handled   \n",
       "...                                          ...   \n",
       "1170013    Trouble with how payments are handled   \n",
       "1201449       Can't decrease my monthly payments   \n",
       "1218079   Received bad information about my loan   \n",
       "1332350  Need information about my balance/terms   \n",
       "1470454   Received bad information about my loan   \n",
       "\n",
       "                                                       ccn  \\\n",
       "1815     I am co signer on daughters loan and daughter ...   \n",
       "6293     After reviewing my credit report i noticed acc...   \n",
       "84565    I 'm not satisfied with Well Fargo 's response...   \n",
       "87299    I signed as co-signer for an initial applicati...   \n",
       "113571   I had previously submitted complaint and have ...   \n",
       "...                                                    ...   \n",
       "1170013  I had co-signed for my grandson for a XXXX stu...   \n",
       "1201449  The borrower, XXXX XXXX, had agreed to XXXX lo...   \n",
       "1218079  I just found out that I have to pay off an add...   \n",
       "1332350  Hello, XXXX ( XXXX is a bill collector ) of Su...   \n",
       "1470454  I was told that I had to take out loans until ...   \n",
       "\n",
       "                                   Company public response  \\\n",
       "1815      Company chooses not to provide a public response   \n",
       "6293     Company believes it acted appropriately as aut...   \n",
       "84565     Company chooses not to provide a public response   \n",
       "87299    Company has responded to the consumer and the ...   \n",
       "113571   Company has responded to the consumer and the ...   \n",
       "...                                                    ...   \n",
       "1170013  Company believes it acted appropriately as aut...   \n",
       "1201449  Company believes it acted appropriately as aut...   \n",
       "1218079  Company believes complaint caused principally ...   \n",
       "1332350  Company has responded to the consumer and the ...   \n",
       "1470454  Company has responded to the consumer and the ...   \n",
       "\n",
       "                                        Company State            Tags  \\\n",
       "1815                      WELLS FARGO & COMPANY    TX  Older American   \n",
       "6293                                GREAT LAKES    UT   Servicemember   \n",
       "84565                     WELLS FARGO & COMPANY    VA   Servicemember   \n",
       "87299       Experian Information Solutions Inc.    CA   Servicemember   \n",
       "113571          Utah System of Higher Education    CA  Older American   \n",
       "...                                         ...   ...             ...   \n",
       "1170013                         SLM CORPORATION    MI  Older American   \n",
       "1201449        Account Control Technology, Inc.    NY  Older American   \n",
       "1218079     First Associates Loan Servicing LLC    PA   Servicemember   \n",
       "1332350                    SUNTRUST BANKS, INC.    CA   Servicemember   \n",
       "1470454  Financial Asset Management Systems Inc    CA   Servicemember   \n",
       "\n",
       "                      ccp Date sent to company  \\\n",
       "1815     Consent provided           10/30/2015   \n",
       "6293     Consent provided           03/15/2017   \n",
       "84565    Consent provided           06/26/2015   \n",
       "87299    Consent provided           10/25/2016   \n",
       "113571   Consent provided           03/15/2017   \n",
       "...                   ...                  ...   \n",
       "1170013  Consent provided           02/09/2017   \n",
       "1201449  Consent provided           08/12/2016   \n",
       "1218079  Consent provided           10/23/2015   \n",
       "1332350  Consent provided           01/10/2017   \n",
       "1470454  Consent provided           12/13/2016   \n",
       "\n",
       "                                     crc Timely response? Consumer disputed?  \n",
       "1815             Closed with explanation              Yes                 No  \n",
       "6293             Closed with explanation              Yes                 No  \n",
       "84565    Closed with non-monetary relief              Yes                 No  \n",
       "87299            Closed with explanation              Yes                 No  \n",
       "113571                            Closed               No                 No  \n",
       "...                                  ...              ...                ...  \n",
       "1170013          Closed with explanation              Yes                 No  \n",
       "1201449          Closed with explanation              Yes                 No  \n",
       "1218079          Closed with explanation              Yes                 No  \n",
       "1332350          Closed with explanation              Yes                Yes  \n",
       "1470454  Closed with non-monetary relief              Yes                 No  \n",
       "\n",
       "[137 rows x 15 columns]"
      ]
     },
     "execution_count": 20,
     "metadata": {},
     "output_type": "execute_result"
    }
   ],
   "source": [
    "df[df.Product =='Student loan']"
   ]
  },
  {
   "cell_type": "code",
   "execution_count": 21,
   "metadata": {},
   "outputs": [
    {
     "data": {
      "text/plain": [
       "Other (i.e. phone, health club, etc.)    1084\n",
       "I do not know                             559\n",
       "Medical                                   538\n",
       "Credit card                               485\n",
       "Non-federal student loan                  128\n",
       "Mortgage                                   92\n",
       "Auto                                       76\n",
       "Payday loan                                72\n",
       "Federal student loan servicing             53\n",
       "Federal student loan                       33\n",
       "Name: Sub-product, dtype: int64"
      ]
     },
     "execution_count": 21,
     "metadata": {},
     "output_type": "execute_result"
    }
   ],
   "source": [
    "df['Sub-product'].value_counts()"
   ]
  },
  {
   "cell_type": "code",
   "execution_count": 22,
   "metadata": {},
   "outputs": [
    {
     "data": {
      "text/plain": [
       "Cont'd attempts collect debt not owed    1471\n",
       "Disclosure verification of debt           450\n",
       "Communication tactics                     391\n",
       "False statements or representation        292\n",
       "Taking/threatening an illegal action      217\n",
       "Improper contact or sharing of info       162\n",
       "Dealing with my lender or servicer        100\n",
       "Can't repay my loan                        31\n",
       "Getting a loan                              6\n",
       "Name: Issue, dtype: int64"
      ]
     },
     "execution_count": 22,
     "metadata": {},
     "output_type": "execute_result"
    }
   ],
   "source": [
    "df['Issue'].value_counts()"
   ]
  },
  {
   "cell_type": "code",
   "execution_count": 23,
   "metadata": {},
   "outputs": [
    {
     "data": {
      "text/plain": [
       "<AxesSubplot:>"
      ]
     },
     "execution_count": 23,
     "metadata": {},
     "output_type": "execute_result"
    },
    {
     "data": {
      "image/png": "[encoded data removed]",
      "text/plain": [
       "<Figure size 432x288 with 1 Axes>"
      ]
     },
     "metadata": {
      "needs_background": "light"
     },
     "output_type": "display_data"
    }
   ],
   "source": [
    "df.Issue.value_counts().plot(kind='bar')"
   ]
  },
  {
   "cell_type": "code",
   "execution_count": 24,
   "metadata": {},
   "outputs": [
    {
     "data": {
      "text/plain": [
       "Debt is not mine                           886\n",
       "Debt was paid                              410\n",
       "Frequent or repeated calls                 231\n",
       "Not given enough info to verify debt       228\n",
       "Attempted to collect wrong amount          221\n",
       "Right to dispute notice not received       182\n",
       "Debt resulted from identity theft          131\n",
       "Talked to a third party about my debt       97\n",
       "Threatened to take legal action             76\n",
       "Threatened to sue on too old debt           59\n",
       "Threatened arrest/jail if do not pay        50\n",
       "Seized/Attempted to seize property          49\n",
       "Debt was discharged in bankruptcy           44\n",
       "Contacted me after I asked not to           41\n",
       "Used obscene/profane/abusive language       41\n",
       "Not disclosed as an attempt to collect      40\n",
       "Indicated committed crime not paying        34\n",
       "Called after sent written cease of comm     30\n",
       "Impersonated an attorney or official        27\n",
       "Received bad information about my loan      26\n",
       "Sued w/o proper notification of suit        25\n",
       "Trouble with how payments are handled       24\n",
       "Attempted to/Collected exempt funds         21\n",
       "Having problems with customer service       19\n",
       "Don't agree with fees charged               19\n",
       "Contacted employer after asked not to       17\n",
       "Can't decrease my monthly payments          16\n",
       "Sued where didn't live/sign for debt        13\n",
       "Called outside of 8am-9pm                   13\n",
       "Indicated shouldn't respond to lawsuit      10\n",
       "Can't temporarily postpone payments          9\n",
       "Contacted me instead of my attorney          7\n",
       "Need information about my balance/terms      7\n",
       "Can't get flexible payment options           6\n",
       "Keep getting calls about my loan             5\n",
       "Can't qualify for a loan                     4\n",
       "Qualify for a better loan than offered       2\n",
       "Name: Sub-issue, dtype: int64"
      ]
     },
     "execution_count": 24,
     "metadata": {},
     "output_type": "execute_result"
    }
   ],
   "source": [
    "df['Sub-issue'].value_counts()"
   ]
  },
  {
   "cell_type": "code",
   "execution_count": 25,
   "metadata": {},
   "outputs": [
    {
     "data": {
      "text/plain": [
       "Product          Issue                                \n",
       "Debt collection  Cont'd attempts collect debt not owed    1471\n",
       "                 Disclosure verification of debt           450\n",
       "                 Communication tactics                     391\n",
       "                 False statements or representation        292\n",
       "                 Taking/threatening an illegal action      217\n",
       "                 Improper contact or sharing of info       162\n",
       "Student loan     Dealing with my lender or servicer        100\n",
       "                 Can't repay my loan                        31\n",
       "                 Getting a loan                              6\n",
       "Name: Issue, dtype: int64"
      ]
     },
     "execution_count": 25,
     "metadata": {},
     "output_type": "execute_result"
    }
   ],
   "source": [
    "b= df.groupby(\"Product\").Issue.value_counts()\n",
    "b"
   ]
  },
  {
   "cell_type": "code",
   "execution_count": 26,
   "metadata": {},
   "outputs": [
    {
     "data": {
      "text/plain": [
       "<AxesSubplot:xlabel='Product,Issue'>"
      ]
     },
     "execution_count": 26,
     "metadata": {},
     "output_type": "execute_result"
    },
    {
     "data": {
      "image/png": "[encoded data removed]",
      "text/plain": [
       "<Figure size 432x288 with 1 Axes>"
      ]
     },
     "metadata": {
      "needs_background": "light"
     },
     "output_type": "display_data"
    }
   ],
   "source": [
    "b.plot(kind='bar')"
   ]
  },
  {
   "cell_type": "code",
   "execution_count": 27,
   "metadata": {},
   "outputs": [
    {
     "data": {
      "text/plain": [
       "<AxesSubplot:xlabel='Product'>"
      ]
     },
     "execution_count": 27,
     "metadata": {},
     "output_type": "execute_result"
    },
    {
     "data": {
      "image/png": "[encoded data removed]",
      "text/plain": [
       "<Figure size 432x288 with 1 Axes>"
      ]
     },
     "metadata": {
      "needs_background": "light"
     },
     "output_type": "display_data"
    }
   ],
   "source": [
    "b.unstack().plot(kind='bar')"
   ]
  },
  {
   "cell_type": "code",
   "execution_count": 28,
   "metadata": {},
   "outputs": [
    {
     "data": {
      "text/plain": [
       "Product          Issue                                  Timely response?\n",
       "Debt collection  Communication tactics                  Yes                  376\n",
       "                                                        No                    15\n",
       "                 Cont'd attempts collect debt not owed  Yes                 1389\n",
       "                                                        No                    82\n",
       "                 Disclosure verification of debt        Yes                  438\n",
       "                                                        No                    12\n",
       "                 False statements or representation     Yes                  280\n",
       "                                                        No                    12\n",
       "                 Improper contact or sharing of info    Yes                  160\n",
       "                                                        No                     2\n",
       "                 Taking/threatening an illegal action   Yes                  209\n",
       "                                                        No                     8\n",
       "Student loan     Can't repay my loan                    Yes                   29\n",
       "                                                        No                     2\n",
       "                 Dealing with my lender or servicer     Yes                   94\n",
       "                                                        No                     6\n",
       "                 Getting a loan                         Yes                    6\n",
       "Name: Timely response?, dtype: int64"
      ]
     },
     "execution_count": 28,
     "metadata": {},
     "output_type": "execute_result"
    }
   ],
   "source": [
    "response1 = df.groupby(['Product','Issue'])['Timely response?'].value_counts()\n",
    "response1"
   ]
  },
  {
   "cell_type": "code",
   "execution_count": 29,
   "metadata": {},
   "outputs": [
    {
     "data": {
      "text/plain": [
       "<AxesSubplot:xlabel='Product,Issue'>"
      ]
     },
     "execution_count": 29,
     "metadata": {},
     "output_type": "execute_result"
    },
    {
     "data": {
      "image/png": "[encoded data removed]",
      "text/plain": [
       "<Figure size 432x288 with 1 Axes>"
      ]
     },
     "metadata": {
      "needs_background": "light"
     },
     "output_type": "display_data"
    }
   ],
   "source": [
    "response1.unstack().plot(kind='bar', stacked= True)"
   ]
  },
  {
   "cell_type": "code",
   "execution_count": 30,
   "metadata": {},
   "outputs": [
    {
     "data": {
      "text/plain": [
       "<AxesSubplot:ylabel='Timely response?'>"
      ]
     },
     "execution_count": 30,
     "metadata": {},
     "output_type": "execute_result"
    },
    {
     "data": {
      "image/png": "[encoded data removed]",
      "text/plain": [
       "<Figure size 432x288 with 1 Axes>"
      ]
     },
     "metadata": {},
     "output_type": "display_data"
    }
   ],
   "source": [
    "df['Timely response?'].value_counts().plot.pie(fontsize = 12, autopct = '%.2f')"
   ]
  },
  {
   "cell_type": "code",
   "execution_count": 31,
   "metadata": {},
   "outputs": [
    {
     "data": {
      "text/plain": [
       "Company believes it acted appropriately as authorized by contract or law                                                   1348\n",
       "Company has responded to the consumer and the CFPB and chooses not to provide a public response                             766\n",
       "Company chooses not to provide a public response                                                                            398\n",
       "Company disputes the facts presented in the complaint                                                                       160\n",
       "Company believes the complaint is the result of a misunderstanding                                                          132\n",
       "Company believes complaint caused principally by actions of third party outside the control or direction of the company     125\n",
       "Company can't verify or dispute the facts in the complaint                                                                  118\n",
       "Company believes complaint is the result of an isolated error                                                                45\n",
       "Company believes complaint represents an opportunity for improvement to better serve consumers                               26\n",
       "Company believes complaint relates to a discontinued policy or procedure                                                      2\n",
       "Name: Company public response, dtype: int64"
      ]
     },
     "execution_count": 31,
     "metadata": {},
     "output_type": "execute_result"
    }
   ],
   "source": [
    "df['Company public response'].value_counts()"
   ]
  },
  {
   "cell_type": "code",
   "execution_count": 32,
   "metadata": {},
   "outputs": [
    {
     "data": {
      "text/plain": [
       "ERC                                      175\n",
       "CITIBANK, N.A.                            89\n",
       "BANK OF AMERICA, NATIONAL ASSOCIATION     74\n",
       "WELLS FARGO & COMPANY                     71\n",
       "National Credit Systems,Inc.              55\n",
       "                                        ... \n",
       "Concord Servicing Corporation              1\n",
       "RGL Associates, Inc.                       1\n",
       "Universal Credit Services, Inc             1\n",
       "NATIONSTAR MORTGAGE                        1\n",
       "Weinstock, Friedman, & Friedman, P.A.      1\n",
       "Name: Company, Length: 627, dtype: int64"
      ]
     },
     "execution_count": 32,
     "metadata": {},
     "output_type": "execute_result"
    }
   ],
   "source": [
    "df['Company'].value_counts()"
   ]
  },
  {
   "cell_type": "code",
   "execution_count": 33,
   "metadata": {},
   "outputs": [
    {
     "data": {
      "text/plain": [
       "Issue                                 Company                              \n",
       "Can't repay my loan                   GREAT LAKES                              8\n",
       "                                      SLM CORPORATION                          7\n",
       "                                      ECMC Group, Inc.                         3\n",
       "                                      WELLS FARGO & COMPANY                    3\n",
       "                                      ACCESS GROUP INC.                        1\n",
       "                                                                              ..\n",
       "Taking/threatening an illegal action  WESTERN CONTROL SERVICES, INC.           1\n",
       "                                      Weinstock, Friedman, & Friedman, P.A.    1\n",
       "                                      Williams, Rush & Associates, LLC         1\n",
       "                                      Wilson, Riley & Associates               1\n",
       "                                      Zarzaur and Schwartz, PC                 1\n",
       "Name: Company, Length: 1241, dtype: int64"
      ]
     },
     "execution_count": 33,
     "metadata": {},
     "output_type": "execute_result"
    }
   ],
   "source": [
    "df.groupby(['Issue'])['Company'].value_counts()\n"
   ]
  },
  {
   "cell_type": "code",
   "execution_count": 34,
   "metadata": {},
   "outputs": [
    {
     "data": {
      "text/plain": [
       "Product          Issue                  Company                              \n",
       "Debt collection  Communication tactics  CITIBANK, N.A.                           20\n",
       "                                        WELLS FARGO & COMPANY                    11\n",
       "                                        ERC                                       9\n",
       "                                        BANK OF AMERICA, NATIONAL ASSOCIATION     8\n",
       "                                        STERLING JEWELERS, INC.                   8\n",
       "                                                                                 ..\n",
       "Student loan     Getting a loan         SLM CORPORATION                           2\n",
       "                                        Campus Student Funding, LLC               1\n",
       "                                        NAVY FEDERAL CREDIT UNION                 1\n",
       "                                        Student Loan Finance Corporation          1\n",
       "                                        U.S. BANCORP                              1\n",
       "Name: Company, Length: 1241, dtype: int64"
      ]
     },
     "execution_count": 34,
     "metadata": {},
     "output_type": "execute_result"
    }
   ],
   "source": [
    "df.groupby(['Product','Issue'])['Company'].value_counts()\n"
   ]
  },
  {
   "cell_type": "code",
   "execution_count": 35,
   "metadata": {},
   "outputs": [
    {
     "data": {
      "text/plain": [
       "State  Issue                                \n",
       "AE     Cont'd attempts collect debt not owed    3\n",
       "       Dealing with my lender or servicer       2\n",
       "AK     Cont'd attempts collect debt not owed    3\n",
       "       Communication tactics                    2\n",
       "       Dealing with my lender or servicer       1\n",
       "                                               ..\n",
       "WV     Disclosure verification of debt          5\n",
       "       Taking/threatening an illegal action     3\n",
       "       Communication tactics                    1\n",
       "       Dealing with my lender or servicer       1\n",
       "WY     False statements or representation       1\n",
       "Name: Issue, Length: 331, dtype: int64"
      ]
     },
     "execution_count": 35,
     "metadata": {},
     "output_type": "execute_result"
    }
   ],
   "source": [
    "df.groupby(['State'])['Issue'].value_counts()\n"
   ]
  },
  {
   "cell_type": "code",
   "execution_count": 36,
   "metadata": {},
   "outputs": [
    {
     "data": {
      "text/plain": [
       "Issue                                  crc                            \n",
       "Can't repay my loan                    Closed with explanation              30\n",
       "                                       Closed with monetary relief           1\n",
       "Communication tactics                  Closed with explanation             301\n",
       "                                       Closed with non-monetary relief      64\n",
       "                                       Closed                               20\n",
       "                                       Closed with monetary relief           6\n",
       "Cont'd attempts collect debt not owed  Closed with explanation            1101\n",
       "                                       Closed with non-monetary relief     247\n",
       "                                       Closed                              100\n",
       "                                       Closed with monetary relief          23\n",
       "Dealing with my lender or servicer     Closed with explanation              82\n",
       "                                       Closed with non-monetary relief      11\n",
       "                                       Closed with monetary relief           6\n",
       "                                       Closed                                1\n",
       "Disclosure verification of debt        Closed with explanation             362\n",
       "                                       Closed with non-monetary relief      57\n",
       "                                       Closed                               27\n",
       "                                       Closed with monetary relief           4\n",
       "False statements or representation     Closed with explanation             249\n",
       "                                       Closed with non-monetary relief      25\n",
       "                                       Closed                               12\n",
       "                                       Closed with monetary relief           6\n",
       "Getting a loan                         Closed with explanation               5\n",
       "                                       Closed                                1\n",
       "Improper contact or sharing of info    Closed with explanation             131\n",
       "                                       Closed with non-monetary relief      19\n",
       "                                       Closed                                9\n",
       "                                       Closed with monetary relief           3\n",
       "Taking/threatening an illegal action   Closed with explanation             192\n",
       "                                       Closed                               13\n",
       "                                       Closed with non-monetary relief      10\n",
       "                                       Closed with monetary relief           2\n",
       "Name: crc, dtype: int64"
      ]
     },
     "execution_count": 36,
     "metadata": {},
     "output_type": "execute_result"
    }
   ],
   "source": [
    "df.groupby(['Issue'])['crc'].value_counts()\n"
   ]
  },
  {
   "cell_type": "code",
   "execution_count": 37,
   "metadata": {},
   "outputs": [
    {
     "data": {
      "text/plain": [
       "crc                              Company                         \n",
       "Closed                           ERC                                 45\n",
       "                                 Southwest Credit Systems, L.P.      22\n",
       "                                 Aargon Agency, Inc.                 15\n",
       "                                 Choice Recovery, Inc.                9\n",
       "                                 Express Recovery Services, Inc.      5\n",
       "                                                                     ..\n",
       "Closed with non-monetary relief  The Affiliated Group, Inc            1\n",
       "                                 Trident Asset Management, L.L.C.     1\n",
       "                                 United Revenue Corporation           1\n",
       "                                 V and H Portfolio                    1\n",
       "                                 Zenith Financial Network Inc         1\n",
       "Name: Company, Length: 734, dtype: int64"
      ]
     },
     "execution_count": 37,
     "metadata": {},
     "output_type": "execute_result"
    }
   ],
   "source": [
    "df.groupby(['crc'])['Company'].value_counts()\n"
   ]
  },
  {
   "cell_type": "code",
   "execution_count": 38,
   "metadata": {},
   "outputs": [
    {
     "data": {
      "text/plain": [
       "<AxesSubplot:ylabel='crc'>"
      ]
     },
     "execution_count": 38,
     "metadata": {},
     "output_type": "execute_result"
    },
    {
     "data": {
      "image/png": "[encoded data removed]",
      "text/plain": [
       "<Figure size 432x288 with 1 Axes>"
      ]
     },
     "metadata": {},
     "output_type": "display_data"
    }
   ],
   "source": [
    "df.crc.value_counts().plot.pie(fontsize = 18, autopct = '%.2f')"
   ]
  },
  {
   "cell_type": "code",
   "execution_count": 39,
   "metadata": {},
   "outputs": [
    {
     "data": {
      "text/html": [
       "<div>\n",
       "<style scoped>\n",
       "    .dataframe tbody tr th:only-of-type {\n",
       "        vertical-align: middle;\n",
       "    }\n",
       "\n",
       "    .dataframe tbody tr th {\n",
       "        vertical-align: top;\n",
       "    }\n",
       "\n",
       "    .dataframe thead th {\n",
       "        text-align: right;\n",
       "    }\n",
       "</style>\n",
       "<table border=\"1\" class=\"dataframe\">\n",
       "  <thead>\n",
       "    <tr style=\"text-align: right;\">\n",
       "      <th></th>\n",
       "      <th>crc</th>\n",
       "    </tr>\n",
       "  </thead>\n",
       "  <tbody>\n",
       "    <tr>\n",
       "      <th>Closed with explanation</th>\n",
       "      <td>2453</td>\n",
       "    </tr>\n",
       "    <tr>\n",
       "      <th>Closed with non-monetary relief</th>\n",
       "      <td>433</td>\n",
       "    </tr>\n",
       "    <tr>\n",
       "      <th>Closed</th>\n",
       "      <td>183</td>\n",
       "    </tr>\n",
       "    <tr>\n",
       "      <th>Closed with monetary relief</th>\n",
       "      <td>51</td>\n",
       "    </tr>\n",
       "  </tbody>\n",
       "</table>\n",
       "</div>"
      ],
      "text/plain": [
       "                                  crc\n",
       "Closed with explanation          2453\n",
       "Closed with non-monetary relief   433\n",
       "Closed                            183\n",
       "Closed with monetary relief        51"
      ]
     },
     "execution_count": 39,
     "metadata": {},
     "output_type": "execute_result"
    }
   ],
   "source": [
    "pd.DataFrame(df.crc.value_counts())"
   ]
  },
  {
   "cell_type": "code",
   "execution_count": 40,
   "metadata": {},
   "outputs": [
    {
     "data": {
      "text/plain": [
       "CA    395\n",
       "TX    310\n",
       "FL    280\n",
       "GA    179\n",
       "VA    137\n",
       "NY    110\n",
       "NC    107\n",
       "MD    106\n",
       "OH     97\n",
       "WA     91\n",
       "AZ     91\n",
       "IL     89\n",
       "PA     77\n",
       "NJ     77\n",
       "TN     73\n",
       "SC     65\n",
       "CO     60\n",
       "NV     54\n",
       "MI     53\n",
       "MN     43\n",
       "IN     42\n",
       "MO     40\n",
       "OR     36\n",
       "LA     35\n",
       "AL     35\n",
       "KY     35\n",
       "UT     33\n",
       "MA     33\n",
       "WI     28\n",
       "OK     27\n",
       "AR     26\n",
       "MS     20\n",
       "ID     19\n",
       "NM     19\n",
       "CT     17\n",
       "IA     16\n",
       "WV     15\n",
       "HI     14\n",
       "DC     13\n",
       "NE     13\n",
       "DE     13\n",
       "MT     12\n",
       "KS     11\n",
       "RI     10\n",
       "ME     10\n",
       "SD      8\n",
       "NH      8\n",
       "AP      6\n",
       "ND      6\n",
       "PR      6\n",
       "AK      6\n",
       "AE      5\n",
       "VT      3\n",
       "AS      2\n",
       "GU      2\n",
       "VI      1\n",
       "WY      1\n",
       "Name: State, dtype: int64"
      ]
     },
     "execution_count": 40,
     "metadata": {},
     "output_type": "execute_result"
    }
   ],
   "source": [
    "df['State'].value_counts()"
   ]
  },
  {
   "cell_type": "code",
   "execution_count": 41,
   "metadata": {},
   "outputs": [
    {
     "data": {
      "text/plain": [
       "State  Issue                                \n",
       "AE     Cont'd attempts collect debt not owed    3\n",
       "       Dealing with my lender or servicer       2\n",
       "AK     Cont'd attempts collect debt not owed    3\n",
       "       Communication tactics                    2\n",
       "       Dealing with my lender or servicer       1\n",
       "                                               ..\n",
       "WV     Disclosure verification of debt          5\n",
       "       Taking/threatening an illegal action     3\n",
       "       Communication tactics                    1\n",
       "       Dealing with my lender or servicer       1\n",
       "WY     False statements or representation       1\n",
       "Name: Issue, Length: 331, dtype: int64"
      ]
     },
     "execution_count": 41,
     "metadata": {},
     "output_type": "execute_result"
    }
   ],
   "source": [
    "df.groupby(['State'])['Issue'].value_counts()\n"
   ]
  },
  {
   "cell_type": "code",
   "execution_count": 42,
   "metadata": {},
   "outputs": [
    {
     "data": {
      "text/plain": [
       "Date received              object\n",
       "Product                    object\n",
       "Sub-product                object\n",
       "Issue                      object\n",
       "Sub-issue                  object\n",
       "ccn                        object\n",
       "Company public response    object\n",
       "Company                    object\n",
       "State                      object\n",
       "Tags                       object\n",
       "ccp                        object\n",
       "Date sent to company       object\n",
       "crc                        object\n",
       "Timely response?           object\n",
       "Consumer disputed?         object\n",
       "dtype: object"
      ]
     },
     "execution_count": 42,
     "metadata": {},
     "output_type": "execute_result"
    }
   ],
   "source": [
    "df.dtypes"
   ]
  },
  {
   "cell_type": "code",
   "execution_count": 43,
   "metadata": {},
   "outputs": [],
   "source": [
    "df['Date received']=pd.to_datetime(df['Date received'])"
   ]
  },
  {
   "cell_type": "code",
   "execution_count": 44,
   "metadata": {},
   "outputs": [],
   "source": [
    "df['Date sent to company']=pd.to_datetime(df['Date sent to company'])"
   ]
  },
  {
   "cell_type": "code",
   "execution_count": 45,
   "metadata": {},
   "outputs": [
    {
     "data": {
      "text/plain": [
       "Date received              datetime64[ns]\n",
       "Product                            object\n",
       "Sub-product                        object\n",
       "Issue                              object\n",
       "Sub-issue                          object\n",
       "ccn                                object\n",
       "Company public response            object\n",
       "Company                            object\n",
       "State                              object\n",
       "Tags                               object\n",
       "ccp                                object\n",
       "Date sent to company       datetime64[ns]\n",
       "crc                                object\n",
       "Timely response?                   object\n",
       "Consumer disputed?                 object\n",
       "dtype: object"
      ]
     },
     "execution_count": 45,
     "metadata": {},
     "output_type": "execute_result"
    }
   ],
   "source": [
    "df.dtypes"
   ]
  },
  {
   "cell_type": "code",
   "execution_count": 46,
   "metadata": {},
   "outputs": [
    {
     "data": {
      "text/html": [
       "<div>\n",
       "<style scoped>\n",
       "    .dataframe tbody tr th:only-of-type {\n",
       "        vertical-align: middle;\n",
       "    }\n",
       "\n",
       "    .dataframe tbody tr th {\n",
       "        vertical-align: top;\n",
       "    }\n",
       "\n",
       "    .dataframe thead th {\n",
       "        text-align: right;\n",
       "    }\n",
       "</style>\n",
       "<table border=\"1\" class=\"dataframe\">\n",
       "  <thead>\n",
       "    <tr style=\"text-align: right;\">\n",
       "      <th></th>\n",
       "      <th>Date received</th>\n",
       "      <th>Product</th>\n",
       "      <th>Sub-product</th>\n",
       "      <th>Issue</th>\n",
       "      <th>Sub-issue</th>\n",
       "      <th>ccn</th>\n",
       "      <th>Company public response</th>\n",
       "      <th>Company</th>\n",
       "      <th>State</th>\n",
       "      <th>Tags</th>\n",
       "      <th>ccp</th>\n",
       "      <th>Date sent to company</th>\n",
       "      <th>crc</th>\n",
       "      <th>Timely response?</th>\n",
       "      <th>Consumer disputed?</th>\n",
       "      <th>Total Time</th>\n",
       "    </tr>\n",
       "  </thead>\n",
       "  <tbody>\n",
       "    <tr>\n",
       "      <th>253</th>\n",
       "      <td>2016-10-10</td>\n",
       "      <td>Debt collection</td>\n",
       "      <td>Credit card</td>\n",
       "      <td>Taking/threatening an illegal action</td>\n",
       "      <td>Threatened arrest/jail if do not pay</td>\n",
       "      <td>XXXX AND XXXX ON BEHALF OF BANK OF AMERICA HAS...</td>\n",
       "      <td>Company has responded to the consumer and the ...</td>\n",
       "      <td>BANK OF AMERICA, NATIONAL ASSOCIATION</td>\n",
       "      <td>CA</td>\n",
       "      <td>Servicemember</td>\n",
       "      <td>Consent provided</td>\n",
       "      <td>2016-10-10</td>\n",
       "      <td>Closed with explanation</td>\n",
       "      <td>Yes</td>\n",
       "      <td>No</td>\n",
       "      <td>0 days</td>\n",
       "    </tr>\n",
       "    <tr>\n",
       "      <th>870</th>\n",
       "      <td>2015-03-20</td>\n",
       "      <td>Debt collection</td>\n",
       "      <td>I do not know</td>\n",
       "      <td>Cont'd attempts collect debt not owed</td>\n",
       "      <td>Debt is not mine</td>\n",
       "      <td>I sent a letter and have yet to receive a resp...</td>\n",
       "      <td>Company chooses not to provide a public response</td>\n",
       "      <td>ALLY FINANCIAL INC.</td>\n",
       "      <td>MD</td>\n",
       "      <td>Servicemember</td>\n",
       "      <td>Consent provided</td>\n",
       "      <td>2015-03-26</td>\n",
       "      <td>Closed with explanation</td>\n",
       "      <td>Yes</td>\n",
       "      <td>No</td>\n",
       "      <td>6 days</td>\n",
       "    </tr>\n",
       "    <tr>\n",
       "      <th>1356</th>\n",
       "      <td>2016-10-13</td>\n",
       "      <td>Debt collection</td>\n",
       "      <td>Other (i.e. phone, health club, etc.)</td>\n",
       "      <td>Cont'd attempts collect debt not owed</td>\n",
       "      <td>Debt is not mine</td>\n",
       "      <td>THIS DEBT STAYED ON MY CREDIT REPORT FOR 9+ YE...</td>\n",
       "      <td>Company has responded to the consumer and the ...</td>\n",
       "      <td>Convergent Resources, Inc.</td>\n",
       "      <td>CA</td>\n",
       "      <td>Servicemember</td>\n",
       "      <td>Consent provided</td>\n",
       "      <td>2016-10-13</td>\n",
       "      <td>Closed with explanation</td>\n",
       "      <td>Yes</td>\n",
       "      <td>No</td>\n",
       "      <td>0 days</td>\n",
       "    </tr>\n",
       "    <tr>\n",
       "      <th>1613</th>\n",
       "      <td>2016-06-17</td>\n",
       "      <td>Debt collection</td>\n",
       "      <td>Other (i.e. phone, health club, etc.)</td>\n",
       "      <td>Disclosure verification of debt</td>\n",
       "      <td>Right to dispute notice not received</td>\n",
       "      <td>I received notification on XXXX/XXXX/XXXX that...</td>\n",
       "      <td>Company disputes the facts presented in the co...</td>\n",
       "      <td>National Credit Systems,Inc.</td>\n",
       "      <td>FL</td>\n",
       "      <td>Older American</td>\n",
       "      <td>Consent provided</td>\n",
       "      <td>2016-06-20</td>\n",
       "      <td>Closed with explanation</td>\n",
       "      <td>Yes</td>\n",
       "      <td>No</td>\n",
       "      <td>3 days</td>\n",
       "    </tr>\n",
       "    <tr>\n",
       "      <th>1815</th>\n",
       "      <td>2015-10-30</td>\n",
       "      <td>Student loan</td>\n",
       "      <td>Non-federal student loan</td>\n",
       "      <td>Can't repay my loan</td>\n",
       "      <td>Can't temporarily postpone payments</td>\n",
       "      <td>I am co signer on daughters loan and daughter ...</td>\n",
       "      <td>Company chooses not to provide a public response</td>\n",
       "      <td>WELLS FARGO &amp; COMPANY</td>\n",
       "      <td>TX</td>\n",
       "      <td>Older American</td>\n",
       "      <td>Consent provided</td>\n",
       "      <td>2015-10-30</td>\n",
       "      <td>Closed with explanation</td>\n",
       "      <td>Yes</td>\n",
       "      <td>No</td>\n",
       "      <td>0 days</td>\n",
       "    </tr>\n",
       "  </tbody>\n",
       "</table>\n",
       "</div>"
      ],
      "text/plain": [
       "     Date received          Product                            Sub-product  \\\n",
       "253     2016-10-10  Debt collection                            Credit card   \n",
       "870     2015-03-20  Debt collection                          I do not know   \n",
       "1356    2016-10-13  Debt collection  Other (i.e. phone, health club, etc.)   \n",
       "1613    2016-06-17  Debt collection  Other (i.e. phone, health club, etc.)   \n",
       "1815    2015-10-30     Student loan               Non-federal student loan   \n",
       "\n",
       "                                      Issue  \\\n",
       "253    Taking/threatening an illegal action   \n",
       "870   Cont'd attempts collect debt not owed   \n",
       "1356  Cont'd attempts collect debt not owed   \n",
       "1613        Disclosure verification of debt   \n",
       "1815                    Can't repay my loan   \n",
       "\n",
       "                                 Sub-issue  \\\n",
       "253   Threatened arrest/jail if do not pay   \n",
       "870                       Debt is not mine   \n",
       "1356                      Debt is not mine   \n",
       "1613  Right to dispute notice not received   \n",
       "1815   Can't temporarily postpone payments   \n",
       "\n",
       "                                                    ccn  \\\n",
       "253   XXXX AND XXXX ON BEHALF OF BANK OF AMERICA HAS...   \n",
       "870   I sent a letter and have yet to receive a resp...   \n",
       "1356  THIS DEBT STAYED ON MY CREDIT REPORT FOR 9+ YE...   \n",
       "1613  I received notification on XXXX/XXXX/XXXX that...   \n",
       "1815  I am co signer on daughters loan and daughter ...   \n",
       "\n",
       "                                Company public response  \\\n",
       "253   Company has responded to the consumer and the ...   \n",
       "870    Company chooses not to provide a public response   \n",
       "1356  Company has responded to the consumer and the ...   \n",
       "1613  Company disputes the facts presented in the co...   \n",
       "1815   Company chooses not to provide a public response   \n",
       "\n",
       "                                    Company State            Tags  \\\n",
       "253   BANK OF AMERICA, NATIONAL ASSOCIATION    CA   Servicemember   \n",
       "870                     ALLY FINANCIAL INC.    MD   Servicemember   \n",
       "1356             Convergent Resources, Inc.    CA   Servicemember   \n",
       "1613           National Credit Systems,Inc.    FL  Older American   \n",
       "1815                  WELLS FARGO & COMPANY    TX  Older American   \n",
       "\n",
       "                   ccp Date sent to company                      crc  \\\n",
       "253   Consent provided           2016-10-10  Closed with explanation   \n",
       "870   Consent provided           2015-03-26  Closed with explanation   \n",
       "1356  Consent provided           2016-10-13  Closed with explanation   \n",
       "1613  Consent provided           2016-06-20  Closed with explanation   \n",
       "1815  Consent provided           2015-10-30  Closed with explanation   \n",
       "\n",
       "     Timely response? Consumer disputed? Total Time  \n",
       "253               Yes                 No     0 days  \n",
       "870               Yes                 No     6 days  \n",
       "1356              Yes                 No     0 days  \n",
       "1613              Yes                 No     3 days  \n",
       "1815              Yes                 No     0 days  "
      ]
     },
     "execution_count": 46,
     "metadata": {},
     "output_type": "execute_result"
    }
   ],
   "source": [
    "df['Total Time'] = df['Date sent to company'] - df['Date received']\n",
    "df.head(5)"
   ]
  },
  {
   "cell_type": "code",
   "execution_count": 47,
   "metadata": {},
   "outputs": [
    {
     "name": "stderr",
     "output_type": "stream",
     "text": [
      "<ipython-input-47-9fb5d4fcf619>:1: UserWarning:\n",
      "\n",
      "Pandas doesn't allow columns to be created via a new attribute name - see https://pandas.pydata.org/pandas-docs/stable/indexing.html#attribute-access\n",
      "\n"
     ]
    },
    {
     "data": {
      "text/plain": [
       "2016    1507\n",
       "2015    1090\n",
       "2017     523\n",
       "Name: Date received, dtype: int64"
      ]
     },
     "execution_count": 47,
     "metadata": {},
     "output_type": "execute_result"
    }
   ],
   "source": [
    "df.year = df['Date received'].dt.year\n",
    "df.year.value_counts()"
   ]
  },
  {
   "cell_type": "code",
   "execution_count": 48,
   "metadata": {},
   "outputs": [
    {
     "data": {
      "text/plain": [
       "2016    1500\n",
       "2015    1077\n",
       "2017     543\n",
       "Name: Date sent to company, dtype: int64"
      ]
     },
     "execution_count": 48,
     "metadata": {},
     "output_type": "execute_result"
    }
   ],
   "source": [
    "df.year = df['Date sent to company'].dt.year\n",
    "df.year.value_counts()"
   ]
  },
  {
   "cell_type": "code",
   "execution_count": 49,
   "metadata": {},
   "outputs": [
    {
     "data": {
      "text/plain": [
       "Date sent to company  Product        \n",
       "2015-03-19            Debt collection    5\n",
       "2015-03-20            Debt collection    3\n",
       "2015-03-21            Debt collection    1\n",
       "2015-03-22            Debt collection    1\n",
       "2015-03-23            Debt collection    3\n",
       "                                        ..\n",
       "2017-04-21            Debt collection    3\n",
       "2017-04-27            Debt collection    1\n",
       "2017-05-09            Debt collection    1\n",
       "2017-06-05            Debt collection    1\n",
       "2017-12-20            Debt collection    1\n",
       "Name: Product, Length: 815, dtype: int64"
      ]
     },
     "execution_count": 49,
     "metadata": {},
     "output_type": "execute_result"
    }
   ],
   "source": [
    "d = df.groupby(['Date sent to company'])['Product'].value_counts()\n",
    "d"
   ]
  },
  {
   "cell_type": "code",
   "execution_count": 50,
   "metadata": {},
   "outputs": [
    {
     "data": {
      "text/plain": [
       "Date sent to company  Product          Issue                                \n",
       "2015-03-19            Debt collection  Cont'd attempts collect debt not owed    3\n",
       "                                       Communication tactics                    1\n",
       "                                       False statements or representation       1\n",
       "2015-03-20            Debt collection  Cont'd attempts collect debt not owed    2\n",
       "                                       False statements or representation       1\n",
       "                                                                               ..\n",
       "2017-04-21            Debt collection  Taking/threatening an illegal action     1\n",
       "2017-04-27            Debt collection  Communication tactics                    1\n",
       "2017-05-09            Debt collection  Cont'd attempts collect debt not owed    1\n",
       "2017-06-05            Debt collection  Communication tactics                    1\n",
       "2017-12-20            Debt collection  Cont'd attempts collect debt not owed    1\n",
       "Name: Issue, Length: 1879, dtype: int64"
      ]
     },
     "execution_count": 50,
     "metadata": {},
     "output_type": "execute_result"
    }
   ],
   "source": [
    "e = df.groupby(['Date sent to company','Product'])['Issue'].value_counts()\n",
    "e"
   ]
  },
  {
   "cell_type": "code",
   "execution_count": 51,
   "metadata": {},
   "outputs": [
    {
     "data": {
      "text/plain": [
       "<AxesSubplot:ylabel='Tags'>"
      ]
     },
     "execution_count": 51,
     "metadata": {},
     "output_type": "execute_result"
    },
    {
     "data": {
      "image/png": "[encoded data removed]",
      "text/plain": [
       "<Figure size 432x288 with 1 Axes>"
      ]
     },
     "metadata": {},
     "output_type": "display_data"
    }
   ],
   "source": [
    "df.Tags.value_counts().plot.pie(fontsize = 18, autopct = '%.2f')"
   ]
  },
  {
   "cell_type": "code",
   "execution_count": 52,
   "metadata": {},
   "outputs": [
    {
     "data": {
      "text/plain": [
       "Product          Issue                                  Consumer disputed?\n",
       "Debt collection  Communication tactics                  No                     323\n",
       "                                                        Yes                     68\n",
       "                 Cont'd attempts collect debt not owed  No                    1179\n",
       "                                                        Yes                    292\n",
       "                 Disclosure verification of debt        No                     329\n",
       "                                                        Yes                    121\n",
       "                 False statements or representation     No                     231\n",
       "                                                        Yes                     61\n",
       "                 Improper contact or sharing of info    No                     122\n",
       "                                                        Yes                     40\n",
       "                 Taking/threatening an illegal action   No                     160\n",
       "                                                        Yes                     57\n",
       "Student loan     Can't repay my loan                    No                      23\n",
       "                                                        Yes                      8\n",
       "                 Dealing with my lender or servicer     No                      83\n",
       "                                                        Yes                     17\n",
       "                 Getting a loan                         No                       4\n",
       "                                                        Yes                      2\n",
       "Name: Consumer disputed?, dtype: int64"
      ]
     },
     "execution_count": 52,
     "metadata": {},
     "output_type": "execute_result"
    }
   ],
   "source": [
    "f = df.groupby(['Product','Issue'])['Consumer disputed?'].value_counts()\n",
    "f"
   ]
  },
  {
   "cell_type": "code",
   "execution_count": 53,
   "metadata": {},
   "outputs": [
    {
     "data": {
      "text/plain": [
       "<AxesSubplot:ylabel='Consumer disputed?'>"
      ]
     },
     "execution_count": 53,
     "metadata": {},
     "output_type": "execute_result"
    },
    {
     "data": {
      "image/png": "[encoded data removed]",
      "text/plain": [
       "<Figure size 432x288 with 1 Axes>"
      ]
     },
     "metadata": {},
     "output_type": "display_data"
    }
   ],
   "source": [
    "df['Consumer disputed?'].value_counts().plot.pie(fontsize = 18, autopct = '%.2f')"
   ]
  },
  {
   "cell_type": "code",
   "execution_count": null,
   "metadata": {},
   "outputs": [],
   "source": []
  }
 ],
 "metadata": {
  "kernelspec": {
   "display_name": "Python 3",
   "language": "python",
   "name": "python3"
  },
  "language_info": {
   "codemirror_mode": {
    "name": "ipython",
    "version": 3
   },
   "file_extension": ".py",
   "mimetype": "text/x-python",
   "name": "python",
   "nbconvert_exporter": "python",
   "pygments_lexer": "ipython3",
   "version": "3.8.5"
  }
 },
 "nbformat": 4,
 "nbformat_minor": 4
}
